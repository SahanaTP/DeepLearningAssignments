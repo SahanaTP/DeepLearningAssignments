{
  "cells": [
    {
      "cell_type": "markdown",
      "source": [
        "# Deep Learning Assignment - 10\n",
        "# Name: Sahana Thoravalli Prabhuswamy\n",
        "# Student ID: 016796832\n",
        "# Github link for assignments:\n",
        "https://github.com/SahanaTP/DeepLearningAssignments"
      ],
      "metadata": {
        "id": "pb8Z6dGbusnI"
      }
    },
    {
      "cell_type": "markdown",
      "metadata": {
        "id": "WSqAqDUGnn17"
      },
      "source": [
        "#Download SQuAD 2.0 dataset and required libraries"
      ]
    },
    {
      "cell_type": "code",
      "execution_count": null,
      "metadata": {
        "id": "QXm5hzM6nn19",
        "outputId": "a127d3c1-b141-4077-c2c9-9fe0acbaf5a2"
      },
      "outputs": [
        {
          "name": "stdout",
          "output_type": "stream",
          "text": [
            "Collecting transformers\n",
            "  Downloading transformers-4.40.0-py3-none-any.whl.metadata (137 kB)\n",
            "\u001b[2K     \u001b[90m━━━━━━━━━━━━━━━━━━━━━━━━━━━━━━━━━━━━━━━\u001b[0m \u001b[32m137.6/137.6 kB\u001b[0m \u001b[31m4.7 MB/s\u001b[0m eta \u001b[36m0:00:00\u001b[0m\n",
            "\u001b[?25hRequirement already satisfied: filelock in /opt/conda/lib/python3.10/site-packages (from transformers) (3.13.1)\n",
            "Collecting huggingface-hub<1.0,>=0.19.3 (from transformers)\n",
            "  Downloading huggingface_hub-0.22.2-py3-none-any.whl.metadata (12 kB)\n",
            "Requirement already satisfied: numpy>=1.17 in /opt/conda/lib/python3.10/site-packages (from transformers) (1.26.2)\n",
            "Requirement already satisfied: packaging>=20.0 in /opt/conda/lib/python3.10/site-packages (from transformers) (23.1)\n",
            "Requirement already satisfied: pyyaml>=5.1 in /opt/conda/lib/python3.10/site-packages (from transformers) (6.0.1)\n",
            "Collecting regex!=2019.12.17 (from transformers)\n",
            "  Downloading regex-2024.4.16-cp310-cp310-manylinux_2_17_x86_64.manylinux2014_x86_64.whl.metadata (40 kB)\n",
            "\u001b[2K     \u001b[90m━━━━━━━━━━━━━━━━━━━━━━━━━━━━━━━━━━━━━━━━\u001b[0m \u001b[32m40.9/40.9 kB\u001b[0m \u001b[31m6.1 MB/s\u001b[0m eta \u001b[36m0:00:00\u001b[0m\n",
            "\u001b[?25hRequirement already satisfied: requests in /opt/conda/lib/python3.10/site-packages (from transformers) (2.31.0)\n",
            "Collecting tokenizers<0.20,>=0.19 (from transformers)\n",
            "  Downloading tokenizers-0.19.1-cp310-cp310-manylinux_2_17_x86_64.manylinux2014_x86_64.whl.metadata (6.7 kB)\n",
            "Collecting safetensors>=0.4.1 (from transformers)\n",
            "  Downloading safetensors-0.4.3-cp310-cp310-manylinux_2_17_x86_64.manylinux2014_x86_64.whl.metadata (3.8 kB)\n",
            "Requirement already satisfied: tqdm>=4.27 in /opt/conda/lib/python3.10/site-packages (from transformers) (4.65.0)\n",
            "Requirement already satisfied: fsspec>=2023.5.0 in /opt/conda/lib/python3.10/site-packages (from huggingface-hub<1.0,>=0.19.3->transformers) (2023.12.2)\n",
            "Requirement already satisfied: typing-extensions>=3.7.4.3 in /opt/conda/lib/python3.10/site-packages (from huggingface-hub<1.0,>=0.19.3->transformers) (4.7.1)\n",
            "Requirement already satisfied: charset-normalizer<4,>=2 in /opt/conda/lib/python3.10/site-packages (from requests->transformers) (2.0.4)\n",
            "Requirement already satisfied: idna<4,>=2.5 in /opt/conda/lib/python3.10/site-packages (from requests->transformers) (3.4)\n",
            "Requirement already satisfied: urllib3<3,>=1.21.1 in /opt/conda/lib/python3.10/site-packages (from requests->transformers) (1.26.18)\n",
            "Requirement already satisfied: certifi>=2017.4.17 in /opt/conda/lib/python3.10/site-packages (from requests->transformers) (2023.11.17)\n",
            "Downloading transformers-4.40.0-py3-none-any.whl (9.0 MB)\n",
            "\u001b[2K   \u001b[90m━━━━━━━━━━━━━━━━━━━━━━━━━━━━━━━━━━━━━━━━\u001b[0m \u001b[32m9.0/9.0 MB\u001b[0m \u001b[31m13.9 MB/s\u001b[0m eta \u001b[36m0:00:00\u001b[0m00:01\u001b[0m00:01\u001b[0m\n",
            "\u001b[?25hDownloading huggingface_hub-0.22.2-py3-none-any.whl (388 kB)\n",
            "\u001b[2K   \u001b[90m━━━━━━━━━━━━━━━━━━━━━━━━━━━━━━━━━━━━━━━━\u001b[0m \u001b[32m388.9/388.9 kB\u001b[0m \u001b[31m16.6 MB/s\u001b[0m eta \u001b[36m0:00:00\u001b[0m\n",
            "\u001b[?25hDownloading regex-2024.4.16-cp310-cp310-manylinux_2_17_x86_64.manylinux2014_x86_64.whl (773 kB)\n",
            "\u001b[2K   \u001b[90m━━━━━━━━━━━━━━━━━━━━━━━━━━━━━━━━━━━━━━━━\u001b[0m \u001b[32m774.0/774.0 kB\u001b[0m \u001b[31m12.6 MB/s\u001b[0m eta \u001b[36m0:00:00\u001b[0ma \u001b[36m0:00:01\u001b[0m\n",
            "\u001b[?25hDownloading safetensors-0.4.3-cp310-cp310-manylinux_2_17_x86_64.manylinux2014_x86_64.whl (1.2 MB)\n",
            "\u001b[2K   \u001b[90m━━━━━━━━━━━━━━━━━━━━━━━━━━━━━━━━━━━━━━━━\u001b[0m \u001b[32m1.2/1.2 MB\u001b[0m \u001b[31m14.2 MB/s\u001b[0m eta \u001b[36m0:00:00\u001b[0ma \u001b[36m0:00:01\u001b[0m\n",
            "\u001b[?25hDownloading tokenizers-0.19.1-cp310-cp310-manylinux_2_17_x86_64.manylinux2014_x86_64.whl (3.6 MB)\n",
            "\u001b[2K   \u001b[90m━━━━━━━━━━━━━━━━━━━━━━━━━━━━━━━━━━━━━━━━\u001b[0m \u001b[32m3.6/3.6 MB\u001b[0m \u001b[31m15.2 MB/s\u001b[0m eta \u001b[36m0:00:00\u001b[0ma \u001b[36m0:00:01\u001b[0m\n",
            "\u001b[?25hInstalling collected packages: safetensors, regex, huggingface-hub, tokenizers, transformers\n",
            "Successfully installed huggingface-hub-0.22.2 regex-2024.4.16 safetensors-0.4.3 tokenizers-0.19.1 transformers-4.40.0\n",
            "\u001b[33mWARNING: Running pip as the 'root' user can result in broken permissions and conflicting behaviour with the system package manager. It is recommended to use a virtual environment instead: https://pip.pypa.io/warnings/venv\u001b[0m\u001b[33m\n",
            "\u001b[0m"
          ]
        }
      ],
      "source": [
        "!pip install transformers"
      ]
    },
    {
      "cell_type": "code",
      "execution_count": null,
      "metadata": {
        "id": "DhFsuQbPnn1-",
        "outputId": "54f9d4ec-f720-47ac-9682-967302656de3"
      },
      "outputs": [
        {
          "name": "stdout",
          "output_type": "stream",
          "text": [
            "Collecting pandas\n",
            "  Downloading pandas-2.2.2-cp310-cp310-manylinux_2_17_x86_64.manylinux2014_x86_64.whl.metadata (19 kB)\n",
            "Requirement already satisfied: numpy>=1.22.4 in /opt/conda/lib/python3.10/site-packages (from pandas) (1.26.2)\n",
            "Requirement already satisfied: python-dateutil>=2.8.2 in /opt/conda/lib/python3.10/site-packages (from pandas) (2.8.2)\n",
            "Requirement already satisfied: pytz>=2020.1 in /opt/conda/lib/python3.10/site-packages (from pandas) (2023.3.post1)\n",
            "Collecting tzdata>=2022.7 (from pandas)\n",
            "  Downloading tzdata-2024.1-py2.py3-none-any.whl.metadata (1.4 kB)\n",
            "Requirement already satisfied: six>=1.5 in /opt/conda/lib/python3.10/site-packages (from python-dateutil>=2.8.2->pandas) (1.16.0)\n",
            "Downloading pandas-2.2.2-cp310-cp310-manylinux_2_17_x86_64.manylinux2014_x86_64.whl (13.0 MB)\n",
            "\u001b[2K   \u001b[90m━━━━━━━━━━━━━━━━━━━━━━━━━━━━━━━━━━━━━━━━\u001b[0m \u001b[32m13.0/13.0 MB\u001b[0m \u001b[31m13.6 MB/s\u001b[0m eta \u001b[36m0:00:00\u001b[0m00:01\u001b[0m00:01\u001b[0m\n",
            "\u001b[?25hDownloading tzdata-2024.1-py2.py3-none-any.whl (345 kB)\n",
            "\u001b[2K   \u001b[90m━━━━━━━━━━━━━━━━━━━━━━━━━━━━━━━━━━━━━━━━\u001b[0m \u001b[32m345.4/345.4 kB\u001b[0m \u001b[31m17.2 MB/s\u001b[0m eta \u001b[36m0:00:00\u001b[0m\n",
            "\u001b[?25hInstalling collected packages: tzdata, pandas\n",
            "Successfully installed pandas-2.2.2 tzdata-2024.1\n",
            "\u001b[33mWARNING: Running pip as the 'root' user can result in broken permissions and conflicting behaviour with the system package manager. It is recommended to use a virtual environment instead: https://pip.pypa.io/warnings/venv\u001b[0m\u001b[33m\n",
            "\u001b[0m"
          ]
        }
      ],
      "source": [
        "!pip install pandas"
      ]
    },
    {
      "cell_type": "code",
      "execution_count": 1,
      "metadata": {
        "id": "5YP8bXD1nn1-"
      },
      "outputs": [],
      "source": [
        "import json\n",
        "import pandas as pd\n",
        "import numpy as np\n",
        "from pathlib import Path\n",
        "import torch\n",
        "from torch.utils.data import DataLoader, TensorDataset\n",
        "from transformers import BertTokenizer, BertForQuestionAnswering\n",
        "import time"
      ]
    },
    {
      "cell_type": "code",
      "execution_count": 2,
      "metadata": {
        "colab": {
          "base_uri": "https://localhost:8080/"
        },
        "id": "3XS4DcpYnn1_",
        "outputId": "6bb0475b-20fb-42b4-9ee5-4358f80fce9e"
      },
      "outputs": [
        {
          "output_type": "stream",
          "name": "stdout",
          "text": [
            "GPU is available\n"
          ]
        }
      ],
      "source": [
        "is_cuda = torch.cuda.is_available()\n",
        "\n",
        "# If we have a GPU available, we'll set our device to GPU.\n",
        "if is_cuda:\n",
        "    device = torch.device(\"cuda\")\n",
        "    print(\"GPU is available\")\n",
        "else:\n",
        "    device = torch.device(\"cpu\")\n",
        "    print(\"GPU not available, CPU used\")"
      ]
    },
    {
      "cell_type": "markdown",
      "metadata": {
        "id": "s5Eev5Dann1_"
      },
      "source": [
        "* The Stanford Question Answering Dataset (SQuAD) consists of questions (100,000) on a set of Wikipedia articles where the answer to every question is a segment of text, or span, from the corresponding reading passage.\n",
        "\n",
        "* In second version of SQuAD unanswerable questions were added (50,000) to look similar to answerable ones.\n",
        "\n",
        "* The purpose of systems using the SQuAD2.0 dataset, must be not only answer questions when possible, but also determine when no answer is supported by the paragraph and abstain from answering."
      ]
    },
    {
      "cell_type": "code",
      "execution_count": 4,
      "metadata": {
        "id": "vSK1fZ1Inn1_"
      },
      "outputs": [],
      "source": [
        "import urllib.request\n",
        "\n",
        "def download_file(url, file_path):\n",
        "    urllib.request.urlretrieve(url, file_path)\n",
        "\n",
        "# Example usage:\n",
        "train_data_url = 'https://rajpurkar.github.io/SQuAD-explorer/dataset/train-v2.0.json'\n",
        "dev_data_url = 'https://rajpurkar.github.io/SQuAD-explorer/dataset/dev-v2.0.json'\n",
        "train_file_path = 'train.json'\n",
        "test_file_path = 'test.json'\n",
        "download_file(train_data_url, train_file_path)\n",
        "download_file(dev_data_url, test_file_path)"
      ]
    },
    {
      "cell_type": "markdown",
      "metadata": {
        "id": "QkiW8Tg_nn1_"
      },
      "source": [
        "# Retrieve and Store the data"
      ]
    },
    {
      "cell_type": "markdown",
      "metadata": {
        "id": "iAXCH0nlnn1_"
      },
      "source": [
        "Here I take and store the texts, queries and answers from the train and validation .json files. If we look carefully we will see that in these files there are a number of queries and answers for each passage. I save these informations into lists."
      ]
    },
    {
      "cell_type": "code",
      "execution_count": 6,
      "metadata": {
        "id": "TJyw-1qjnn1_"
      },
      "outputs": [],
      "source": [
        "# Define the path to the SQuAD 2.0 training data\n",
        "path = \"train.json\"\n",
        "\n",
        "# Load and preprocess the SQuAD 2.0 data\n",
        "def load_squad_data(path):\n",
        "    with open(path, 'rb') as f:\n",
        "        squad_dict = json.load(f)\n",
        "\n",
        "    texts = []\n",
        "    questions = []\n",
        "    answers = []\n",
        "\n",
        "    for group in squad_dict['data']:\n",
        "        for passage in group['paragraphs']:\n",
        "            context = passage['context']\n",
        "            for qa in passage['qas']:\n",
        "                question = qa['question']\n",
        "                for answer in qa['answers']:\n",
        "                    texts.append(context)\n",
        "                    questions.append(question)\n",
        "                    answers.append(answer)\n",
        "\n",
        "    return texts, questions, answers\n",
        "\n",
        "# Preprocess the data to find answer start and end positions\n",
        "train_texts, train_queries, train_answers = load_squad_data(path)"
      ]
    },
    {
      "cell_type": "code",
      "execution_count": 7,
      "metadata": {
        "id": "1ffv7np2nn1_"
      },
      "outputs": [],
      "source": [
        "# Give the path for SQuAD 2.0 validation data\n",
        "path = Path('test.json')\n",
        "\n",
        "# Load and preprocess the SQuAD 2.0 data\n",
        "def load_squad_data(path):\n",
        "    with open(path, 'rb') as f:\n",
        "        squad_dict = json.load(f)\n",
        "\n",
        "    texts = []\n",
        "    questions = []\n",
        "    answers = []\n",
        "\n",
        "    for group in squad_dict['data']:\n",
        "        for passage in group['paragraphs']:\n",
        "            context = passage['context']\n",
        "            for qa in passage['qas']:\n",
        "                question = qa['question']\n",
        "                for answer in qa['answers']:\n",
        "                    texts.append(context)\n",
        "                    questions.append(question)\n",
        "                    answers.append(answer)\n",
        "\n",
        "    return texts, questions, answers\n",
        "\n",
        "# Preprocess the data to find answer start and end positions\n",
        "val_texts, val_queries, val_answers = load_squad_data(path)"
      ]
    },
    {
      "cell_type": "markdown",
      "metadata": {
        "id": "zeQwyEQgnn2A"
      },
      "source": [
        "# Check and display some sample data"
      ]
    },
    {
      "cell_type": "code",
      "execution_count": null,
      "metadata": {
        "id": "SKYg8LPonn2A",
        "outputId": "8d90e6fb-6002-460c-832f-1437dd6bc117"
      },
      "outputs": [
        {
          "name": "stdout",
          "output_type": "stream",
          "text": [
            "86821\n",
            "86821\n",
            "86821\n"
          ]
        }
      ],
      "source": [
        "print(len(train_texts))\n",
        "print(len(train_queries))\n",
        "print(len(train_answers))"
      ]
    },
    {
      "cell_type": "code",
      "execution_count": null,
      "metadata": {
        "id": "90EZ3Rpcnn2A",
        "outputId": "66fc699d-e5e7-42a3-fc47-7e4805153e6d"
      },
      "outputs": [
        {
          "name": "stdout",
          "output_type": "stream",
          "text": [
            "Passage:  Beyoncé Giselle Knowles-Carter (/biːˈjɒnseɪ/ bee-YON-say) (born September 4, 1981) is an American singer, songwriter, record producer and actress. Born and raised in Houston, Texas, she performed in various singing and dancing competitions as a child, and rose to fame in the late 1990s as lead singer of R&B girl-group Destiny's Child. Managed by her father, Mathew Knowles, the group became one of the world's best-selling girl groups of all time. Their hiatus saw the release of Beyoncé's debut album, Dangerously in Love (2003), which established her as a solo artist worldwide, earned five Grammy Awards and featured the Billboard Hot 100 number-one singles \"Crazy in Love\" and \"Baby Boy\".\n",
            "Query:  When did Beyonce start becoming popular?\n",
            "Answer:  {'text': 'in the late 1990s', 'answer_start': 269}\n"
          ]
        }
      ],
      "source": [
        "print(\"Passage: \",train_texts[0])\n",
        "print(\"Query: \",train_queries[0])\n",
        "print(\"Answer: \",train_answers[0])"
      ]
    },
    {
      "cell_type": "code",
      "execution_count": null,
      "metadata": {
        "id": "ehYlpawvnn2A",
        "outputId": "dd87098e-7c5d-4e53-c91b-eb0397b2effb"
      },
      "outputs": [
        {
          "name": "stdout",
          "output_type": "stream",
          "text": [
            "Passage:  Beyoncé Giselle Knowles-Carter (/biːˈjɒnseɪ/ bee-YON-say) (born September 4, 1981) is an American singer, songwriter, record producer and actress. Born and raised in Houston, Texas, she performed in various singing and dancing competitions as a child, and rose to fame in the late 1990s as lead singer of R&B girl-group Destiny's Child. Managed by her father, Mathew Knowles, the group became one of the world's best-selling girl groups of all time. Their hiatus saw the release of Beyoncé's debut album, Dangerously in Love (2003), which established her as a solo artist worldwide, earned five Grammy Awards and featured the Billboard Hot 100 number-one singles \"Crazy in Love\" and \"Baby Boy\".\n",
            "Query:  What areas did Beyonce compete in when she was growing up?\n",
            "Answer:  {'text': 'singing and dancing', 'answer_start': 207}\n"
          ]
        }
      ],
      "source": [
        "print(\"Passage: \",train_texts[1])\n",
        "print(\"Query: \",train_queries[1])\n",
        "print(\"Answer: \",train_answers[1])"
      ]
    },
    {
      "cell_type": "code",
      "execution_count": null,
      "metadata": {
        "id": "QgpfeBm9nn2A",
        "outputId": "7578b0cb-bf5a-4c24-a1a7-8e4647567e41"
      },
      "outputs": [
        {
          "name": "stdout",
          "output_type": "stream",
          "text": [
            "20302\n",
            "20302\n",
            "20302\n"
          ]
        }
      ],
      "source": [
        "print(len(val_texts))\n",
        "print(len(val_queries))\n",
        "print(len(val_answers))"
      ]
    },
    {
      "cell_type": "code",
      "execution_count": null,
      "metadata": {
        "id": "ue0ake_rnn2A",
        "outputId": "95489916-ddce-468b-a3b0-f0b6156ce7be"
      },
      "outputs": [
        {
          "name": "stdout",
          "output_type": "stream",
          "text": [
            "Passage:  The Normans (Norman: Nourmands; French: Normands; Latin: Normanni) were the people who in the 10th and 11th centuries gave their name to Normandy, a region in France. They were descended from Norse (\"Norman\" comes from \"Norseman\") raiders and pirates from Denmark, Iceland and Norway who, under their leader Rollo, agreed to swear fealty to King Charles III of West Francia. Through generations of assimilation and mixing with the native Frankish and Roman-Gaulish populations, their descendants would gradually merge with the Carolingian-based cultures of West Francia. The distinct cultural and ethnic identity of the Normans emerged initially in the first half of the 10th century, and it continued to evolve over the succeeding centuries.\n",
            "Query:  In what country is Normandy located?\n",
            "Answer:  {'text': 'France', 'answer_start': 159}\n"
          ]
        }
      ],
      "source": [
        "print(\"Passage: \",val_texts[0])\n",
        "print(\"Query: \",val_queries[0])\n",
        "print(\"Answer: \",val_answers[0])"
      ]
    },
    {
      "cell_type": "markdown",
      "metadata": {
        "id": "ByUY3rDqnn2A"
      },
      "source": [
        "# Find the start and end position character of the real answer from the passages"
      ]
    },
    {
      "cell_type": "code",
      "execution_count": null,
      "metadata": {
        "id": "p56SmBfCnn2A"
      },
      "outputs": [],
      "source": [
        "for answer, text in zip(train_answers, train_texts):\n",
        "    real_answer = answer['text']\n",
        "    start_idx = answer['answer_start']\n",
        "    # Get the real end index\n",
        "    end_idx = start_idx + len(real_answer)\n",
        "\n",
        "    # Deal with the problem of 1 or 2 more characters\n",
        "    if text[start_idx:end_idx] == real_answer:\n",
        "        answer['answer_end'] = end_idx\n",
        "    # When the real answer is more by one character\n",
        "    elif text[start_idx-1:end_idx-1] == real_answer:\n",
        "        answer['answer_start'] = start_idx - 1\n",
        "        answer['answer_end'] = end_idx - 1\n",
        "    # When the real answer is more by two characters\n",
        "    elif text[start_idx-2:end_idx-2] == real_answer:\n",
        "        answer['answer_start'] = start_idx - 2\n",
        "        answer['answer_end'] = end_idx - 2"
      ]
    },
    {
      "cell_type": "code",
      "execution_count": null,
      "metadata": {
        "id": "HerE14GFnn2A"
      },
      "outputs": [],
      "source": [
        "for answer, text in zip(val_answers, val_texts):\n",
        "    real_answer = answer['text']\n",
        "    start_idx = answer['answer_start']\n",
        "    # Get the real end index\n",
        "    end_idx = start_idx + len(real_answer)\n",
        "\n",
        "    # Deal with the problem of 1 or 2 more characters\n",
        "    if text[start_idx:end_idx] == real_answer:\n",
        "        answer['answer_end'] = end_idx\n",
        "    # When the real answer is more by one character\n",
        "    elif text[start_idx-1:end_idx-1] == real_answer:\n",
        "        answer['answer_start'] = start_idx - 1\n",
        "        answer['answer_end'] = end_idx - 1\n",
        "    # When the real answer is more by two characters\n",
        "    elif text[start_idx-2:end_idx-2] == real_answer:\n",
        "        answer['answer_start'] = start_idx - 2\n",
        "        answer['answer_end'] = end_idx - 2\n"
      ]
    },
    {
      "cell_type": "markdown",
      "metadata": {
        "id": "d5B3Awd8nn2B"
      },
      "source": [
        "# Tokenize passages and queries"
      ]
    },
    {
      "cell_type": "code",
      "execution_count": null,
      "metadata": {
        "id": "2gSaigvknn2B"
      },
      "outputs": [],
      "source": [
        "from transformers import AutoTokenizer\n",
        "tokenizer = AutoTokenizer.from_pretrained(\"bert-base-uncased\")"
      ]
    },
    {
      "cell_type": "code",
      "execution_count": null,
      "metadata": {
        "id": "49rglTtwnn2B"
      },
      "outputs": [],
      "source": [
        "train_encodings = tokenizer(train_texts, train_queries, truncation=True, padding=True)\n",
        "val_encodings = tokenizer(val_texts, val_queries, truncation=True, padding=True)"
      ]
    },
    {
      "cell_type": "markdown",
      "metadata": {
        "id": "54QVY8tbnn2B"
      },
      "source": [
        "# Convert the start-end positions to tokens start-end positions"
      ]
    },
    {
      "cell_type": "code",
      "execution_count": null,
      "metadata": {
        "id": "ERtXVIGXnn2B",
        "outputId": "97b991fa-dbfb-46f5-9b83-1bf8dc2f0fb9"
      },
      "outputs": [
        {
          "name": "stdout",
          "output_type": "stream",
          "text": [
            "10\n",
            "16\n"
          ]
        }
      ],
      "source": [
        "def add_token_positions(encodings, answers):\n",
        "    start_positions = []\n",
        "    end_positions = []\n",
        "\n",
        "    count = 0\n",
        "\n",
        "    for i in range(len(answers)):\n",
        "        start_positions.append(encodings.char_to_token(i, answers[i]['answer_start']))\n",
        "        end_positions.append(encodings.char_to_token(i, answers[i]['answer_end']))\n",
        "\n",
        "        # if start position is None, the answer passage has been truncated\n",
        "        if start_positions[-1] is None:\n",
        "            start_positions[-1] = tokenizer.model_max_length\n",
        "\n",
        "        # if end position is None, the 'char_to_token' function points to the space after the correct token, so add - 1\n",
        "        if end_positions[-1] is None:\n",
        "            end_positions[-1] = encodings.char_to_token(i, answers[i]['answer_end'] - 1)\n",
        "\n",
        "            # if end position is still None the answer passage has been truncated\n",
        "            if end_positions[-1] is None:\n",
        "                count += 1\n",
        "                end_positions[-1] = tokenizer.model_max_length\n",
        "    print(count)\n",
        "\n",
        "    # Update the data in dictionary\n",
        "    encodings.update({'start_positions': start_positions, 'end_positions': end_positions})\n",
        "\n",
        "add_token_positions(train_encodings, train_answers)\n",
        "add_token_positions(val_encodings, val_answers)"
      ]
    },
    {
      "cell_type": "markdown",
      "metadata": {
        "id": "u8VkxZRVnn2B"
      },
      "source": [
        "It was observed that after tokenize the end position character, sometimes was still None. This happended only for 10 answers in train data (of total 86821) and 16 answers in validation data (of total 20302).\n",
        "\n",
        "So It was decided to move the answer 1 position left. If it was still None then it was given the model_max_length as before.\n",
        "\n",
        "I have to refer that I was trying to see if the answers in this case was 1 postition after (so I added +1 to the end position) or 2 positions left or right (+/- 2 positions), but the answers that there are still None was more (ie 526, while with this code there only 10).\n",
        "\n",
        "So I kept this strategy in the end, in order to have as less as possible \"burned\" answers."
      ]
    },
    {
      "cell_type": "markdown",
      "metadata": {
        "id": "rlSbRXbwnn2B"
      },
      "source": [
        "# Create a Dataset class"
      ]
    },
    {
      "cell_type": "code",
      "execution_count": null,
      "metadata": {
        "id": "n62MyYoLnn2B"
      },
      "outputs": [],
      "source": [
        "class SquadDataset(torch.utils.data.Dataset):\n",
        "    def __init__(self, encodings):\n",
        "        self.encodings = encodings\n",
        "\n",
        "    def __getitem__(self, idx):\n",
        "        return {key: torch.tensor(val[idx]) for key, val in self.encodings.items()}\n",
        "\n",
        "    def __len__(self):\n",
        "        return len(self.encodings.input_ids)"
      ]
    },
    {
      "cell_type": "code",
      "execution_count": null,
      "metadata": {
        "id": "wGSG5omUnn2B"
      },
      "outputs": [],
      "source": [
        "train_dataset = SquadDataset(train_encodings)\n",
        "val_dataset = SquadDataset(val_encodings)"
      ]
    },
    {
      "cell_type": "markdown",
      "metadata": {
        "id": "Oldr7XIann2B"
      },
      "source": [
        "# Move data to a DataLoader"
      ]
    },
    {
      "cell_type": "code",
      "execution_count": null,
      "metadata": {
        "id": "nFlzMNQWnn2B"
      },
      "outputs": [],
      "source": [
        "train_loader = DataLoader(train_dataset, batch_size=8, shuffle=True)\n",
        "val_loader = DataLoader(val_dataset, batch_size=8, shuffle=True)"
      ]
    },
    {
      "cell_type": "code",
      "execution_count": null,
      "metadata": {
        "id": "5hGhFmQJnn2C"
      },
      "outputs": [],
      "source": [
        "device = torch.device('cuda:0' if torch.cuda.is_available()\n",
        "                      else 'cpu')"
      ]
    },
    {
      "cell_type": "markdown",
      "metadata": {
        "id": "K0oLwCL7nn2C"
      },
      "source": [
        "# Build the Bert model"
      ]
    },
    {
      "cell_type": "markdown",
      "metadata": {
        "id": "_j6uoHFknn2C"
      },
      "source": [
        "* BertForQuestionAnswering from transformers library was selected.\n",
        "\n",
        "* When we instantiate a model with from_pretrained(), the model configuration and pre-trained weights of the specified model are used to initialize the model.\n",
        "\n",
        "* Moreover, I have used the PyTorch optimizer of AdamW which implements gradient bias correction as well as weight decay."
      ]
    },
    {
      "cell_type": "code",
      "execution_count": null,
      "metadata": {
        "id": "NVx6fgX0nn2C",
        "outputId": "7bbf3bf0-e7f7-42e1-9a20-40c24c2c34c9"
      },
      "outputs": [
        {
          "name": "stderr",
          "output_type": "stream",
          "text": [
            "Some weights of BertForQuestionAnswering were not initialized from the model checkpoint at bert-base-uncased and are newly initialized: ['qa_outputs.bias', 'qa_outputs.weight']\n",
            "You should probably TRAIN this model on a down-stream task to be able to use it for predictions and inference.\n"
          ]
        }
      ],
      "source": [
        "model = BertForQuestionAnswering.from_pretrained('bert-base-uncased').to(device)"
      ]
    },
    {
      "cell_type": "code",
      "execution_count": null,
      "metadata": {
        "id": "lgwl30zPnn2C",
        "outputId": "6e02766d-a7d1-477e-8b5e-b148c6ddc02c"
      },
      "outputs": [
        {
          "name": "stderr",
          "output_type": "stream",
          "text": [
            "/opt/conda/lib/python3.10/site-packages/transformers/optimization.py:521: FutureWarning: This implementation of AdamW is deprecated and will be removed in a future version. Use the PyTorch implementation torch.optim.AdamW instead, or set `no_deprecation_warning=True` to disable this warning\n",
            "  warnings.warn(\n"
          ]
        }
      ],
      "source": [
        "from transformers import AdamW\n",
        "optim = AdamW(model.parameters(), lr=5e-5)\n",
        "\n",
        "epochs = 3"
      ]
    },
    {
      "cell_type": "markdown",
      "metadata": {
        "id": "6OlWlXlBnn2C"
      },
      "source": [
        "# Train and Evaluate Model"
      ]
    },
    {
      "cell_type": "code",
      "execution_count": null,
      "metadata": {
        "id": "u1uehnm_nn2C",
        "outputId": "71735df7-8f2c-4700-da6e-6c00ab0747ee"
      },
      "outputs": [
        {
          "name": "stdout",
          "output_type": "stream",
          "text": [
            "############Train############\n",
            "Batch 1000 / 10853 \n",
            "Loss: 1.6 \n",
            "\n",
            "Batch 2000 / 10853 \n",
            "Loss: 1.1 \n",
            "\n",
            "Batch 3000 / 10853 \n",
            "Loss: 1.1 \n",
            "\n",
            "Batch 4000 / 10853 \n",
            "Loss: 0.9 \n",
            "\n",
            "Batch 5000 / 10853 \n",
            "Loss: 1.1 \n",
            "\n",
            "Batch 6000 / 10853 \n",
            "Loss: 0.8 \n",
            "\n",
            "Batch 7000 / 10853 \n",
            "Loss: 1.3 \n",
            "\n",
            "Batch 8000 / 10853 \n",
            "Loss: 0.9 \n",
            "\n",
            "Batch 9000 / 10853 \n",
            "Loss: 0.9 \n",
            "\n",
            "Batch 10000 / 10853 \n",
            "Loss: 1.7 \n",
            "\n",
            "############Evaluate############\n",
            "Batch 1000 / 2538 \n",
            "Loss: 1.7 \n",
            "\n",
            "Batch 2000 / 2538 \n",
            "Loss: 1.2 \n",
            "\n",
            "\n",
            "-------Epoch  1 -------\n",
            "Training Loss: 1.338770088788349 \n",
            "Validation Loss: 1.1537410005386934 \n",
            "Time:  1288.947919845581 \n",
            "----------------------- \n",
            "\n",
            "\n",
            "############Train############\n",
            "Batch 1000 / 10853 \n",
            "Loss: 1.0 \n",
            "\n",
            "Batch 2000 / 10853 \n",
            "Loss: 0.4 \n",
            "\n",
            "Batch 3000 / 10853 \n",
            "Loss: 1.1 \n",
            "\n",
            "Batch 4000 / 10853 \n",
            "Loss: 0.5 \n",
            "\n",
            "Batch 5000 / 10853 \n",
            "Loss: 0.4 \n",
            "\n",
            "Batch 6000 / 10853 \n",
            "Loss: 0.7 \n",
            "\n",
            "Batch 7000 / 10853 \n",
            "Loss: 0.2 \n",
            "\n",
            "Batch 8000 / 10853 \n",
            "Loss: 0.9 \n",
            "\n",
            "Batch 9000 / 10853 \n",
            "Loss: 0.4 \n",
            "\n",
            "Batch 10000 / 10853 \n",
            "Loss: 1.0 \n",
            "\n",
            "############Evaluate############\n",
            "Batch 1000 / 2538 \n",
            "Loss: 1.0 \n",
            "\n",
            "Batch 2000 / 2538 \n",
            "Loss: 1.5 \n",
            "\n",
            "\n",
            "-------Epoch  2 -------\n",
            "Training Loss: 0.8764990437815324 \n",
            "Validation Loss: 1.2012526832221528 \n",
            "Time:  1295.108310699463 \n",
            "----------------------- \n",
            "\n",
            "\n",
            "############Train############\n",
            "Batch 1000 / 10853 \n",
            "Loss: 0.7 \n",
            "\n",
            "Batch 2000 / 10853 \n",
            "Loss: 0.8 \n",
            "\n",
            "Batch 3000 / 10853 \n",
            "Loss: 0.5 \n",
            "\n",
            "Batch 4000 / 10853 \n",
            "Loss: 0.5 \n",
            "\n",
            "Batch 5000 / 10853 \n",
            "Loss: 0.6 \n",
            "\n",
            "Batch 6000 / 10853 \n",
            "Loss: 0.4 \n",
            "\n",
            "Batch 7000 / 10853 \n",
            "Loss: 0.6 \n",
            "\n",
            "Batch 8000 / 10853 \n",
            "Loss: 0.8 \n",
            "\n",
            "Batch 9000 / 10853 \n",
            "Loss: 1.3 \n",
            "\n",
            "Batch 10000 / 10853 \n",
            "Loss: 0.4 \n",
            "\n",
            "############Evaluate############\n",
            "Batch 1000 / 2538 \n",
            "Loss: 1.5 \n",
            "\n",
            "Batch 2000 / 2538 \n",
            "Loss: 1.4 \n",
            "\n",
            "\n",
            "-------Epoch  3 -------\n",
            "Training Loss: 0.6844418572015133 \n",
            "Validation Loss: 1.2470383297760623 \n",
            "Time:  1289.8166592121124 \n",
            "----------------------- \n",
            "\n",
            "\n",
            "Total training and evaluation time:  3873.873726606369\n"
          ]
        }
      ],
      "source": [
        "whole_train_eval_time = time.time()\n",
        "\n",
        "train_losses = []\n",
        "val_losses = []\n",
        "\n",
        "print_every = 1000\n",
        "\n",
        "for epoch in range(epochs):\n",
        "    epoch_time = time.time()\n",
        "\n",
        "    # Set model in train mode\n",
        "    model.train()\n",
        "    loss_of_epoch = 0\n",
        "\n",
        "    print(\"############Train############\")\n",
        "\n",
        "    for batch_idx,batch in enumerate(train_loader):\n",
        "        optim.zero_grad()\n",
        "\n",
        "        input_ids = batch['input_ids'].to(device)\n",
        "        attention_mask = batch['attention_mask'].to(device)\n",
        "        start_positions = batch['start_positions'].to(device)\n",
        "        end_positions = batch['end_positions'].to(device)\n",
        "\n",
        "        outputs = model(input_ids, attention_mask=attention_mask, start_positions=start_positions, end_positions=end_positions)\n",
        "        loss = outputs[0]\n",
        "        # do a backwards pass\n",
        "        loss.backward()\n",
        "        # update the weights\n",
        "        optim.step()\n",
        "        # Find the total loss\n",
        "        loss_of_epoch += loss.item()\n",
        "\n",
        "        if (batch_idx+1) % print_every == 0:\n",
        "            print(\"Batch {:} / {:}\".format(batch_idx+1,len(train_loader)),\"\\nLoss:\", round(loss.item(),1),\"\\n\")\n",
        "\n",
        "    loss_of_epoch /= len(train_loader)\n",
        "    train_losses.append(loss_of_epoch)\n",
        "\n",
        "    ##########Evaluation##################\n",
        "\n",
        "    # Set model in evaluation mode\n",
        "    model.eval()\n",
        "\n",
        "    print(\"############Evaluate############\")\n",
        "\n",
        "    loss_of_epoch = 0\n",
        "\n",
        "    for batch_idx,batch in enumerate(val_loader):\n",
        "\n",
        "        with torch.no_grad():\n",
        "\n",
        "            input_ids = batch['input_ids'].to(device)\n",
        "            attention_mask = batch['attention_mask'].to(device)\n",
        "            start_positions = batch['start_positions'].to(device)\n",
        "            end_positions = batch['end_positions'].to(device)\n",
        "\n",
        "            outputs = model(input_ids, attention_mask=attention_mask, start_positions=start_positions, end_positions=end_positions)\n",
        "            loss = outputs[0]\n",
        "            # Find the total loss\n",
        "            loss_of_epoch += loss.item()\n",
        "\n",
        "        if (batch_idx+1) % print_every == 0:\n",
        "            print(\"Batch {:} / {:}\".format(batch_idx+1,len(val_loader)),\"\\nLoss:\", round(loss.item(),1),\"\\n\")\n",
        "\n",
        "    loss_of_epoch /= len(val_loader)\n",
        "    val_losses.append(loss_of_epoch)\n",
        "\n",
        "    # Print each epoch's time and train/val loss\n",
        "\n",
        "    print(\"\\n-------Epoch \", epoch+1,\n",
        "          \"-------\"\n",
        "          \"\\nTraining Loss:\", train_losses[-1],\n",
        "          \"\\nValidation Loss:\", val_losses[-1],\n",
        "          \"\\nTime: \",(time.time() - epoch_time),\n",
        "          \"\\n-----------------------\",\n",
        "          \"\\n\\n\")\n",
        "\n",
        "print(\"Total training and evaluation time: \", (time.time() - whole_train_eval_time))"
      ]
    },
    {
      "cell_type": "markdown",
      "metadata": {
        "id": "QvbD04x0nn2D"
      },
      "source": [
        "# Plot for train and validation losses"
      ]
    },
    {
      "cell_type": "code",
      "execution_count": null,
      "metadata": {
        "id": "fLWvI1dYnn2D",
        "outputId": "4de0f895-5c9c-470c-afd1-3db91c873f3d"
      },
      "outputs": [
        {
          "data": {
            "image/png": "[encoded data removed]",
            "text/plain": [
              "<Figure size 1000x500 with 1 Axes>"
            ]
          },
          "metadata": {},
          "output_type": "display_data"
        }
      ],
      "source": [
        "import matplotlib.pyplot as plt\n",
        "\n",
        "fig,ax = plt.subplots(1,1,figsize=(10,5))\n",
        "\n",
        "ax.set_title(\"Train and Validation Losses\",size=20)\n",
        "ax.set_ylabel('Loss', fontsize = 20)\n",
        "ax.set_xlabel('Epochs', fontsize = 25)\n",
        "_=ax.plot(train_losses)\n",
        "_=ax.plot(val_losses)\n",
        "_=ax.legend(('Train','Val'),loc='upper right')"
      ]
    },
    {
      "cell_type": "markdown",
      "metadata": {
        "id": "74Pao-oXnn2D"
      },
      "source": [
        "# Save trained model"
      ]
    },
    {
      "cell_type": "code",
      "execution_count": null,
      "metadata": {
        "id": "tzK44YG-nn2E"
      },
      "outputs": [],
      "source": [
        "# Save model to Google Drive\n",
        "torch.save(model, 'bert_qa_model.pt')"
      ]
    },
    {
      "cell_type": "markdown",
      "metadata": {
        "id": "WRKEadk6nn2E"
      },
      "source": [
        "# Load trained model"
      ]
    },
    {
      "cell_type": "code",
      "execution_count": null,
      "metadata": {
        "id": "QQf9asmYnn2E",
        "outputId": "9522ee36-d001-413a-850c-f2c19134167a"
      },
      "outputs": [
        {
          "data": {
            "text/plain": [
              "BertForQuestionAnswering(\n",
              "  (bert): BertModel(\n",
              "    (embeddings): BertEmbeddings(\n",
              "      (word_embeddings): Embedding(30522, 768, padding_idx=0)\n",
              "      (position_embeddings): Embedding(512, 768)\n",
              "      (token_type_embeddings): Embedding(2, 768)\n",
              "      (LayerNorm): LayerNorm((768,), eps=1e-12, elementwise_affine=True)\n",
              "      (dropout): Dropout(p=0.1, inplace=False)\n",
              "    )\n",
              "    (encoder): BertEncoder(\n",
              "      (layer): ModuleList(\n",
              "        (0-11): 12 x BertLayer(\n",
              "          (attention): BertAttention(\n",
              "            (self): BertSelfAttention(\n",
              "              (query): Linear(in_features=768, out_features=768, bias=True)\n",
              "              (key): Linear(in_features=768, out_features=768, bias=True)\n",
              "              (value): Linear(in_features=768, out_features=768, bias=True)\n",
              "              (dropout): Dropout(p=0.1, inplace=False)\n",
              "            )\n",
              "            (output): BertSelfOutput(\n",
              "              (dense): Linear(in_features=768, out_features=768, bias=True)\n",
              "              (LayerNorm): LayerNorm((768,), eps=1e-12, elementwise_affine=True)\n",
              "              (dropout): Dropout(p=0.1, inplace=False)\n",
              "            )\n",
              "          )\n",
              "          (intermediate): BertIntermediate(\n",
              "            (dense): Linear(in_features=768, out_features=3072, bias=True)\n",
              "            (intermediate_act_fn): GELUActivation()\n",
              "          )\n",
              "          (output): BertOutput(\n",
              "            (dense): Linear(in_features=3072, out_features=768, bias=True)\n",
              "            (LayerNorm): LayerNorm((768,), eps=1e-12, elementwise_affine=True)\n",
              "            (dropout): Dropout(p=0.1, inplace=False)\n",
              "          )\n",
              "        )\n",
              "      )\n",
              "    )\n",
              "  )\n",
              "  (qa_outputs): Linear(in_features=768, out_features=2, bias=True)\n",
              ")"
            ]
          },
          "execution_count": 35,
          "metadata": {},
          "output_type": "execute_result"
        }
      ],
      "source": [
        "bert_model2 = torch.load('bert_qa_model.pt',map_location=torch.device('cpu'))\n",
        "bert_model2.eval()"
      ]
    },
    {
      "cell_type": "markdown",
      "metadata": {
        "id": "dCWr3dejnn2E"
      },
      "source": [
        "# Make the prediction and evaluate it"
      ]
    },
    {
      "cell_type": "code",
      "execution_count": null,
      "metadata": {
        "id": "obBFT3ORnn2E"
      },
      "outputs": [],
      "source": [
        "def predict(context,query):\n",
        "\n",
        "    inputs = tokenizer.encode_plus(query, context, return_tensors='pt')\n",
        "    outputs = bert_model2(**inputs)\n",
        "    answer_start = torch.argmax(outputs[0])  # get the most likely beginning of answer with the argmax of the score\n",
        "    answer_end = torch.argmax(outputs[1]) + 1\n",
        "    answer = tokenizer.convert_tokens_to_string(tokenizer.convert_ids_to_tokens(inputs['input_ids'][0][answer_start:answer_end]))\n",
        "    return answer\n",
        "\n",
        "def normalize_text(s):\n",
        "    \"\"\"Removing articles and punctuation, and standardizing whitespace are all typical text processing steps.\"\"\"\n",
        "    import string, re\n",
        "    def remove_articles(text):\n",
        "        regex = re.compile(r\"\\b(a|an|the)\\b\", re.UNICODE)\n",
        "        return re.sub(regex, \" \", text)\n",
        "\n",
        "    def white_space_fix(text):\n",
        "        return \" \".join(text.split())\n",
        "\n",
        "    def remove_punc(text):\n",
        "        exclude = set(string.punctuation)\n",
        "        return \"\".join(ch for ch in text if ch not in exclude)\n",
        "\n",
        "    def lower(text):\n",
        "        return text.lower()\n",
        "\n",
        "    return white_space_fix(remove_articles(remove_punc(lower(s))))\n",
        "\n",
        "def compute_exact_match(prediction, truth):\n",
        "    return int(normalize_text(prediction) == normalize_text(truth))\n",
        "\n",
        "def compute_f1(prediction, truth):\n",
        "    pred_tokens = normalize_text(prediction).split()\n",
        "    truth_tokens = normalize_text(truth).split()\n",
        "\n",
        "    # if either the prediction or the truth is no-answer then f1 = 1 if they agree, 0 otherwise\n",
        "    if len(pred_tokens) == 0 or len(truth_tokens) == 0:\n",
        "        return int(pred_tokens == truth_tokens)\n",
        "\n",
        "    common_tokens = set(pred_tokens) & set(truth_tokens)\n",
        "\n",
        "    # if there are no common tokens then f1 = 0\n",
        "    if len(common_tokens) == 0:\n",
        "        return 0\n",
        "\n",
        "    prec = len(common_tokens) / len(pred_tokens)\n",
        "    rec = len(common_tokens) / len(truth_tokens)\n",
        "    return 2 * (prec * rec) / (prec + rec)"
      ]
    },
    {
      "cell_type": "code",
      "execution_count": null,
      "metadata": {
        "id": "SVYLrT1gnn2E"
      },
      "outputs": [],
      "source": [
        "def give_an_answer(context,query,answer):\n",
        "    prediction = predict(context,query)\n",
        "    em_score = compute_exact_match(prediction, answer)\n",
        "    f1_score = compute_f1(prediction, answer)\n",
        "    print(f\"Question: {query}\")\n",
        "    print(f\"Prediction: {prediction}\")\n",
        "    print(f\"True Answer: {answer}\")\n",
        "    print(f\"EM: {em_score}\")\n",
        "    print(f\"F1: {f1_score}\")\n",
        "    print(\"\\n\")"
      ]
    },
    {
      "cell_type": "markdown",
      "metadata": {
        "id": "IL-rlXcgnn2E"
      },
      "source": [
        "# Test the trained model"
      ]
    },
    {
      "cell_type": "markdown",
      "metadata": {
        "id": "Lfu5dzkVnn2E"
      },
      "source": [
        "Here I give some examples to my trained BERT model on SQuAD 2.0 dataset to see how well I trained it. I started with more easier examples and then I gave it more complex ones.\n",
        "\n",
        "For extractive textual QA tasks, we usually adopt two evaluation metrics, which measure ***exact match*** and partially ***overlapped scores*** respectively.\n",
        "\n",
        "***Exact Match***: measures whether the predicted answer exactly matches the ground-truth answers. If the exact matching occurs, then assigns 1.0, otherwise assigns 0.0.\n",
        "\n",
        "***F1 Score***: computes the average word overlap between predicted and ground-truth answers, which can ensure both of precision and recall rate are optimized at the same time.\n",
        "\n",
        "**As you can see my model predicted all the answers correct in a very small an easy example.**"
      ]
    },
    {
      "cell_type": "code",
      "execution_count": null,
      "metadata": {
        "id": "0tcc974Bnn2E",
        "outputId": "001bc67a-c498-4ace-e27c-099f407fa9dd"
      },
      "outputs": [
        {
          "name": "stdout",
          "output_type": "stream",
          "text": [
            "Question: How old is Sahana?\n",
            "Prediction: 29 years old.\n",
            "True Answer: 29\n",
            "EM: 0\n",
            "F1: 0.5\n",
            "\n",
            "\n",
            "Question: Where does Sahana live now?\n",
            "Prediction: mysore of india,\n",
            "True Answer: Mysore of India\n",
            "EM: 1\n",
            "F1: 1.0\n",
            "\n",
            "\n",
            "Question: Where Sahana used to live?\n",
            "Prediction: mysore of india,\n",
            "True Answer: California of USA\n",
            "EM: 0\n",
            "F1: 0.3333333333333333\n",
            "\n",
            "\n"
          ]
        }
      ],
      "source": [
        "context = \"Hi! My name is Sahana and I am 29 years old. I used to live in Mysore of India, but now I moved to California of USA.\"\n",
        "\n",
        "queries = [\"How old is Sahana?\",\n",
        "           \"Where does Sahana live now?\",\n",
        "           \"Where Sahana used to live?\"\n",
        "          ]\n",
        "answers = [\"29\",\n",
        "           \"Mysore of India\",\n",
        "           \"California of USA\"\n",
        "          ]\n",
        "\n",
        "for q,a in zip(queries,answers):\n",
        "    give_an_answer(context,q,a)\n"
      ]
    },
    {
      "cell_type": "code",
      "execution_count": null,
      "metadata": {
        "id": "KA8LByQSnn2E",
        "outputId": "0c04d7ea-255c-4a00-9c0b-a59ecba82335"
      },
      "outputs": [
        {
          "name": "stdout",
          "output_type": "stream",
          "text": [
            "Question: When did Queen found?\n",
            "Prediction: 1970.\n",
            "True Answer: 1970\n",
            "EM: 1\n",
            "F1: 1.0\n",
            "\n",
            "\n",
            "Question: Who were the basic members of Queen band?\n",
            "Prediction: freddie mercury ( lead vocals, piano ), brian may ( guitar, vocals ), roger taylor ( drums, vocals ) and john deacon ( bass ).\n",
            "True Answer: Freddie Mercury, Brian May, Roger Taylor and John Deacon\n",
            "EM: 0\n",
            "F1: 0.6923076923076924\n",
            "\n",
            "\n",
            "Question: What kind of band they are?\n",
            "Prediction: rock\n",
            "True Answer: rock\n",
            "EM: 1\n",
            "F1: 1.0\n",
            "\n",
            "\n"
          ]
        }
      ],
      "source": [
        "context = \"\"\" Queen are a British rock band formed in London in 1970. Their classic line-up was Freddie Mercury (lead vocals, piano),\n",
        "            Brian May (guitar, vocals), Roger Taylor (drums, vocals) and John Deacon (bass). Their earliest works were influenced\n",
        "            by progressive rock, hard rock and heavy metal, but the band gradually ventured into more conventional and radio-friendly\n",
        "            works by incorporating further styles, such as arena rock and pop rock. \"\"\"\n",
        "\n",
        "queries = [\"When did Queen found?\",\n",
        "           \"Who were the basic members of Queen band?\",\n",
        "           \"What kind of band they are?\"\n",
        "          ]\n",
        "answers = [\"1970\",\n",
        "           \"Freddie Mercury, Brian May, Roger Taylor and John Deacon\",\n",
        "           \"rock\"\n",
        "          ]\n",
        "\n",
        "for q,a in zip(queries,answers):\n",
        "    give_an_answer(context,q,a)"
      ]
    },
    {
      "cell_type": "code",
      "execution_count": null,
      "metadata": {
        "id": "IvcNHUt-nn2E",
        "outputId": "4ab775c4-19b9-461b-e8b4-273ef54ad29a"
      },
      "outputs": [
        {
          "name": "stdout",
          "output_type": "stream",
          "text": [
            "Question: How many metres is Olympus?\n",
            "Prediction: 2917\n",
            "True Answer: 2917\n",
            "EM: 1\n",
            "F1: 1.0\n",
            "\n",
            "\n",
            "Question: Where Olympus is near?\n",
            "Prediction: gulf of thermai of the aegean sea,\n",
            "True Answer: Gulf of Thérmai of the Aegean Sea\n",
            "EM: 0\n",
            "F1: 0.6666666666666666\n",
            "\n",
            "\n",
            "Question: How far away is Olympus from Thessaloniki?\n",
            "Prediction: 80 km\n",
            "True Answer: 80 km (50 mi)\n",
            "EM: 0\n",
            "F1: 0.6666666666666666\n",
            "\n",
            "\n"
          ]
        }
      ],
      "source": [
        "context = \"\"\" Mount Olympus is the highest mountain in Greece. It is part of the Olympus massif near\n",
        "              the Gulf of Thérmai of the Aegean Sea, located in the Olympus Range on the border between\n",
        "              Thessaly and Macedonia, between the regional units of Pieria and Larissa, about 80 km (50 mi)\n",
        "              southwest from Thessaloniki. Mount Olympus has 52 peaks and deep gorges. The highest peak,\n",
        "              Mytikas, meaning \"nose\", rises to 2917 metres (9,570 ft). It is one of the\n",
        "              highest peaks in Europe in terms of topographic prominence. \"\"\"\n",
        "\n",
        "queries = [\n",
        "           \"How many metres is Olympus?\",\n",
        "           \"Where Olympus is near?\",\n",
        "           \"How far away is Olympus from Thessaloniki?\"\n",
        "          ]\n",
        "answers = [\n",
        "           \"2917\",\n",
        "           \"Gulf of Thérmai of the Aegean Sea\",\n",
        "           \"80 km (50 mi)\"\n",
        "          ]\n",
        "\n",
        "for q,a in zip(queries,answers):\n",
        "    give_an_answer(context,q,a)"
      ]
    },
    {
      "cell_type": "code",
      "execution_count": null,
      "metadata": {
        "id": "umd97pC0nn2E",
        "outputId": "dfdc3f1e-8f07-4cc1-d269-4f276f2ceb3c"
      },
      "outputs": [
        {
          "name": "stdout",
          "output_type": "stream",
          "text": [
            "Question: What is COVID-19?\n",
            "Prediction: coronavirus disease 2019\n",
            "True Answer: an ongoing pandemic of coronavirus disease 2019\n",
            "EM: 0\n",
            "F1: 0.6666666666666666\n",
            "\n",
            "\n",
            "Question: What is caused by COVID-19?\n",
            "Prediction: coronavirus disease 2019 ( covid - 19 ) caused by severe acute respiratory syndrome coronavirus 2 ( sars - cov - 2 ). it was first identified in december 2019 in wuhan, china. the world health organization declared the outbreak a public health emergency of international concern in january 2020 and a pandemic in march 2020. as of 6 february 2021, more than 105 million cases have been confirmed, with more than 2. 3 million deaths attributed to covid - 19. symptoms of covid - 19 are highly variable, ranging from none to severe illness. the virus spreads mainly through the air when people are near each other. [ b ] it leaves an infected person as they breathe, cough, sneeze, or speak and enters another person via their mouth, nose, or eyes.\n",
            "True Answer: severe acute respiratory syndrome coronavirus 2 (SARS-CoV-2)\n",
            "EM: 0\n",
            "F1: 0.09836065573770492\n",
            "\n",
            "\n",
            "Question: How many cases have been confirmed from COVID-19?\n",
            "Prediction: more than 105 million cases have been confirmed, with more than 2. 3 million deaths attributed to covid - 19. symptoms of covid - 19 are highly variable, ranging from none to severe illness. the virus spreads mainly through the air when people are near each other. [ b ] it leaves an infected person as they breathe, cough, sneeze, or speak and enters another person via their mouth, nose, or eyes.\n",
            "True Answer: more than 105 million cases\n",
            "EM: 0\n",
            "F1: 0.14285714285714288\n",
            "\n",
            "\n",
            "Question: How many deaths have been confirmed from COVID-19?\n",
            "Prediction: 2. 3 million\n",
            "True Answer: more than 2.3 million deaths\n",
            "EM: 0\n",
            "F1: 0.25\n",
            "\n",
            "\n",
            "Question: How is COVID-19 spread?\n",
            "Prediction: via their mouth, nose, or eyes.\n",
            "True Answer: mainly through the air when people are near each other. It leaves an infected person as they breathe, cough, sneeze, or speak and enters another person via their mouth, nose, or eyes. It may also spread via contaminated surfaces.\n",
            "EM: 0\n",
            "F1: 0.27906976744186046\n",
            "\n",
            "\n",
            "Question: How long can an infected person remain infected?\n",
            "Prediction: up to two weeks,\n",
            "True Answer: up to two weeks\n",
            "EM: 1\n",
            "F1: 1.0\n",
            "\n",
            "\n",
            "Question: Can a infected person spread the virus even if they don't have symptoms?\n",
            "Prediction: it leaves an infected person as they breathe, cough, sneeze, or speak and enters another person via their mouth, nose, or eyes.\n",
            "True Answer: yes\n",
            "EM: 0\n",
            "F1: 0\n",
            "\n",
            "\n",
            "Question: What do elephants eat?\n",
            "Prediction: \n",
            "True Answer:  \n",
            "EM: 1\n",
            "F1: 1\n",
            "\n",
            "\n"
          ]
        }
      ],
      "source": [
        "context = \"\"\" The COVID-19 pandemic, also known as the coronavirus pandemic, is an ongoing pandemic of coronavirus disease 2019 (COVID-19)\n",
        "              caused by severe acute respiratory syndrome coronavirus 2 (SARS-CoV-2). It was first identified in December 2019 in Wuhan, China.\n",
        "              The World Health Organization declared the outbreak a Public Health Emergency of International Concern in January 2020 and a pandemic\n",
        "              in March 2020. As of 6 February 2021, more than 105 million cases have been confirmed, with more than 2.3 million deaths attributed to COVID-19.\n",
        "              Symptoms of COVID-19 are highly variable, ranging from none to severe illness. The virus spreads mainly through the air when people are\n",
        "              near each other.[b] It leaves an infected person as they breathe, cough, sneeze, or speak and enters another person via their mouth, nose, or eyes.\n",
        "              It may also spread via contaminated surfaces. People remain infectious for up to two weeks, and can spread the virus even if they do not show symptoms.[9]\"\"\"\n",
        "\n",
        "queries = [\n",
        "           \"What is COVID-19?\",\n",
        "           \"What is caused by COVID-19?\",\n",
        "           \"How many cases have been confirmed from COVID-19?\",\n",
        "           \"How many deaths have been confirmed from COVID-19?\",\n",
        "           \"How is COVID-19 spread?\",\n",
        "           \"How long can an infected person remain infected?\",\n",
        "           \"Can a infected person spread the virus even if they don't have symptoms?\",\n",
        "           \"What do elephants eat?\"\n",
        "          ]\n",
        "answers = [\n",
        "           \"an ongoing pandemic of coronavirus disease 2019\",\n",
        "           \"severe acute respiratory syndrome coronavirus 2 (SARS-CoV-2)\",\n",
        "           \"more than 105 million cases\",\n",
        "           \"more than 2.3 million deaths\",\n",
        "           \"mainly through the air when people are near each other. It leaves an infected person as they breathe, cough, sneeze, or speak and enters another person via their mouth, nose, or eyes. It may also spread via contaminated surfaces.\",\n",
        "           \"up to two weeks\",\n",
        "           \"yes\",\n",
        "           \" \"\n",
        "          ]\n",
        "\n",
        "for q,a in zip(queries,answers):\n",
        "      give_an_answer(context,q,a)"
      ]
    },
    {
      "cell_type": "code",
      "execution_count": null,
      "metadata": {
        "id": "zAmThpKLnn2F",
        "outputId": "753fe4f8-5711-43a0-9875-e60c7f206c45"
      },
      "outputs": [
        {
          "name": "stdout",
          "output_type": "stream",
          "text": [
            "Question: Who wrote Harry Potter's novels?\n",
            "Prediction: j. k. rowling.\n",
            "True Answer: J. K. Rowling\n",
            "EM: 1\n",
            "F1: 1.0\n",
            "\n",
            "\n",
            "Question: Who are Harry Potter's friends?\n",
            "Prediction: hermione granger and ron weasley,\n",
            "True Answer: Hermione Granger and Ron Weasley\n",
            "EM: 1\n",
            "F1: 1.0\n",
            "\n",
            "\n",
            "Question: Who is the enemy of Harry Potter?\n",
            "Prediction: lord voldemort,\n",
            "True Answer: Lord Voldemort\n",
            "EM: 1\n",
            "F1: 1.0\n",
            "\n",
            "\n",
            "Question: What are Muggles?\n",
            "Prediction: non - magical people )\n",
            "True Answer: non-magical people\n",
            "EM: 0\n",
            "F1: 0.4\n",
            "\n",
            "\n",
            "Question: Which is the name of Harry Poter's first novel?\n",
            "Prediction: \n",
            "True Answer: Harry Potter and the Philosopher's Stone\n",
            "EM: 0\n",
            "F1: 0\n",
            "\n",
            "\n",
            "Question: When did the first novel release?\n",
            "Prediction: 26 june 1997,\n",
            "True Answer: 26 June 1997\n",
            "EM: 1\n",
            "F1: 1.0\n",
            "\n",
            "\n",
            "Question: Who was attracted by Harry Potter novels?\n",
            "Prediction: j. k. rowling.\n",
            "True Answer: a wide adult audience as well as younger readers\n",
            "EM: 0\n",
            "F1: 0\n",
            "\n",
            "\n",
            "Question: How many languages Harry Potter has been translated into? \n",
            "Prediction: seven\n",
            "True Answer: eighty\n",
            "EM: 0\n",
            "F1: 0\n",
            "\n",
            "\n"
          ]
        }
      ],
      "source": [
        "context = \"\"\" Harry Potter is a series of seven fantasy novels written by British author, J. K. Rowling. The novels chronicle the lives of a young wizard,\n",
        "              Harry Potter, and his friends Hermione Granger and Ron Weasley, all of whom are students at Hogwarts School of Witchcraft and Wizardry.\n",
        "              The main story arc concerns Harry's struggle against Lord Voldemort, a dark wizard who intends to become immortal, overthrow the wizard\n",
        "              governing body known as the Ministry of Magic and subjugate all wizards and Muggles (non-magical people). Since the release of the first novel,\n",
        "              Harry Potter and the Philosopher's Stone, on 26 June 1997, the books have found immense popularity, positive reviews, and commercial success worldwide.\n",
        "              They have attracted a wide adult audience as well as younger readers and are often considered cornerstones of modern young adult literature.[2]\n",
        "              As of February 2018, the books have sold more than 500 million copies worldwide, making them the best-selling book series in history, and have been translated\n",
        "              into eighty languages.[3] The last four books consecutively set records as the fastest-selling books in history, with the final installment selling roughly\n",
        "              eleven million copies in the United States within twenty-four hours of its release.  \"\"\"\n",
        "\n",
        "queries = [\n",
        "           \"Who wrote Harry Potter's novels?\",\n",
        "           \"Who are Harry Potter's friends?\",\n",
        "           \"Who is the enemy of Harry Potter?\",\n",
        "           \"What are Muggles?\",\n",
        "           \"Which is the name of Harry Poter's first novel?\",\n",
        "           \"When did the first novel release?\",\n",
        "           \"Who was attracted by Harry Potter novels?\",\n",
        "           \"How many languages Harry Potter has been translated into? \"\n",
        "          ]\n",
        "answers = [\n",
        "           \"J. K. Rowling\",\n",
        "           \"Hermione Granger and Ron Weasley\",\n",
        "           \"Lord Voldemort\",\n",
        "           \"non-magical people\",\n",
        "           \"Harry Potter and the Philosopher's Stone\",\n",
        "           \"26 June 1997\",\n",
        "           \"a wide adult audience as well as younger readers\",\n",
        "           \"eighty\"\n",
        "          ]\n",
        "\n",
        "for q,a in zip(queries,answers):\n",
        "      give_an_answer(context,q,a)"
      ]
    },
    {
      "cell_type": "markdown",
      "metadata": {
        "id": "JX7mByOpnn2G"
      },
      "source": [
        "# Summary"
      ]
    },
    {
      "cell_type": "markdown",
      "metadata": {
        "id": "_2joEFIsnn2G"
      },
      "source": [
        "* In general that in questions that included words or phrases from the paragraph the model went perfectly.\n",
        "\n",
        "* Sometimes when the question is more complicated or not so well-structured the model had very descent results.\n",
        "* Given the fact that the model was trained only with three epochs and it has a very good performance."
      ]
    }
  ],
  "metadata": {
    "kernelspec": {
      "display_name": "Python 3",
      "name": "python3"
    },
    "language_info": {
      "codemirror_mode": {
        "name": "ipython",
        "version": 3
      },
      "file_extension": ".py",
      "mimetype": "text/x-python",
      "name": "python",
      "nbconvert_exporter": "python",
      "pygments_lexer": "ipython3",
      "version": "3.10.13"
    },
    "colab": {
      "provenance": [],
      "gpuType": "T4"
    },
    "accelerator": "GPU"
  },
  "nbformat": 4,
  "nbformat_minor": 0
}