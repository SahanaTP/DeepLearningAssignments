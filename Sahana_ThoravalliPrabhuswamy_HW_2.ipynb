{
  "nbformat": 4,
  "nbformat_minor": 0,
  "metadata": {
    "colab": {
      "provenance": []
    },
    "kernelspec": {
      "name": "python3",
      "display_name": "Python 3"
    },
    "language_info": {
      "name": "python"
    }
  },
  "cells": [
    {
      "cell_type": "markdown",
      "source": [
        "# Importing all required libraries"
      ],
      "metadata": {
        "id": "yXD--AjNV7LZ"
      }
    },
    {
      "cell_type": "code",
      "execution_count": 1,
      "metadata": {
        "id": "iCq93EvkXg65"
      },
      "outputs": [],
      "source": [
        "import numpy as np\n",
        "import pandas as pd\n",
        "import torch\n",
        "import torch.nn as nn\n",
        "import torch.optim as optim\n",
        "import torchvision\n",
        "import torchvision.transforms as transforms\n",
        "from torch.utils.data import DataLoader\n",
        "import matplotlib.pyplot as plt\n",
        "import copy\n",
        "from tabulate import tabulate"
      ]
    },
    {
      "cell_type": "markdown",
      "source": [
        "# Loading the QMNIST data"
      ],
      "metadata": {
        "id": "pTyr4V5KWJ66"
      }
    },
    {
      "cell_type": "code",
      "source": [
        "# Load  QMNIST dataset and preprocess\n",
        "transform = transforms.Compose([transforms.ToTensor(), transforms.Normalize((0.5,), (0.5,))])\n",
        "train_dataset = torchvision.datasets.QMNIST(root='./data', train=True, download=True, transform=transform)\n",
        "test_dataset = torchvision.datasets.QMNIST(root='./data', train=False, download=True, transform=transform)\n",
        "\n",
        "# Create data loaders\n",
        "train_loader = DataLoader(train_dataset, batch_size=64, shuffle=True)\n",
        "test_loader = DataLoader(test_dataset, batch_size=64, shuffle=False)"
      ],
      "metadata": {
        "colab": {
          "base_uri": "https://localhost:8080/"
        },
        "id": "S-EAzvK6XiXX",
        "outputId": "e178de80-161a-49a8-f434-d64c78b8b283"
      },
      "execution_count": 2,
      "outputs": [
        {
          "output_type": "stream",
          "name": "stdout",
          "text": [
            "Downloading https://raw.githubusercontent.com/facebookresearch/qmnist/master/qmnist-train-images-idx3-ubyte.gz to ./data/QMNIST/raw/qmnist-train-images-idx3-ubyte.gz\n"
          ]
        },
        {
          "output_type": "stream",
          "name": "stderr",
          "text": [
            "100%|██████████| 9704059/9704059 [00:00<00:00, 57571648.09it/s]\n"
          ]
        },
        {
          "output_type": "stream",
          "name": "stdout",
          "text": [
            "Extracting ./data/QMNIST/raw/qmnist-train-images-idx3-ubyte.gz to ./data/QMNIST/raw\n",
            "Downloading https://raw.githubusercontent.com/facebookresearch/qmnist/master/qmnist-train-labels-idx2-int.gz to ./data/QMNIST/raw/qmnist-train-labels-idx2-int.gz\n"
          ]
        },
        {
          "output_type": "stream",
          "name": "stderr",
          "text": [
            "100%|██████████| 463024/463024 [00:00<00:00, 9406760.90it/s]"
          ]
        },
        {
          "output_type": "stream",
          "name": "stdout",
          "text": [
            "Extracting ./data/QMNIST/raw/qmnist-train-labels-idx2-int.gz to ./data/QMNIST/raw\n"
          ]
        },
        {
          "output_type": "stream",
          "name": "stderr",
          "text": [
            "\n"
          ]
        },
        {
          "output_type": "stream",
          "name": "stdout",
          "text": [
            "Downloading https://raw.githubusercontent.com/facebookresearch/qmnist/master/qmnist-test-images-idx3-ubyte.gz to ./data/QMNIST/raw/qmnist-test-images-idx3-ubyte.gz\n"
          ]
        },
        {
          "output_type": "stream",
          "name": "stderr",
          "text": [
            "100%|██████████| 9742279/9742279 [00:00<00:00, 66686489.54it/s]\n"
          ]
        },
        {
          "output_type": "stream",
          "name": "stdout",
          "text": [
            "Extracting ./data/QMNIST/raw/qmnist-test-images-idx3-ubyte.gz to ./data/QMNIST/raw\n",
            "Downloading https://raw.githubusercontent.com/facebookresearch/qmnist/master/qmnist-test-labels-idx2-int.gz to ./data/QMNIST/raw/qmnist-test-labels-idx2-int.gz\n"
          ]
        },
        {
          "output_type": "stream",
          "name": "stderr",
          "text": [
            "100%|██████████| 526800/526800 [00:00<00:00, 10696419.36it/s]"
          ]
        },
        {
          "output_type": "stream",
          "name": "stdout",
          "text": [
            "Extracting ./data/QMNIST/raw/qmnist-test-labels-idx2-int.gz to ./data/QMNIST/raw\n"
          ]
        },
        {
          "output_type": "stream",
          "name": "stderr",
          "text": [
            "\n"
          ]
        }
      ]
    },
    {
      "cell_type": "markdown",
      "source": [
        "# Displaying few training samples"
      ],
      "metadata": {
        "id": "vWGEzeMsWfw2"
      }
    },
    {
      "cell_type": "code",
      "source": [
        "labels_map = {\n",
        "    0: \"0\",\n",
        "    1: \"1\",\n",
        "    2: \"2\",\n",
        "    3: \"3\",\n",
        "    4: \"4\",\n",
        "    5: \"5\",\n",
        "    6: \"6\",\n",
        "    7: \"7\",\n",
        "    8: \"8\",\n",
        "    9: \"9\",\n",
        "}\n",
        "figure = plt.figure(figsize=(8, 8))\n",
        "cols, rows = 3, 3\n",
        "for i in range(1, cols * rows + 1):\n",
        "    sample_idx = torch.randint(len(train_dataset), size=(1,)).item()\n",
        "    img, label = train_dataset[sample_idx]\n",
        "    figure.add_subplot(rows, cols, i)\n",
        "    plt.title(labels_map[label])\n",
        "    plt.axis(\"off\")\n",
        "    plt.imshow(img.squeeze(), cmap=\"gray\")\n",
        "plt.show()"
      ],
      "metadata": {
        "colab": {
          "base_uri": "https://localhost:8080/",
          "height": 675
        },
        "id": "8KWM4KLsLYmB",
        "outputId": "d583e1fa-eb14-4bfb-d197-75565afee24a"
      },
      "execution_count": 3,
      "outputs": [
        {
          "output_type": "display_data",
          "data": {
            "text/plain": [
              "<Figure size 800x800 with 9 Axes>"
            ],
            "image/png": "[encoded data removed]"
          },
          "metadata": {}
        }
      ]
    },
    {
      "cell_type": "markdown",
      "source": [
        "# Displaying few testing samples"
      ],
      "metadata": {
        "id": "jXjeFsmsWlIx"
      }
    },
    {
      "cell_type": "code",
      "source": [
        "#Test DataSet\n",
        "figure = plt.figure(figsize=(8, 8))\n",
        "cols, rows = 3, 3\n",
        "for i in range(1, cols * rows + 1):\n",
        "    sample_idx = torch.randint(len(test_dataset), size=(1,)).item()\n",
        "    img, label = test_dataset[sample_idx]\n",
        "    figure.add_subplot(rows, cols, i)\n",
        "    plt.title(labels_map[label])\n",
        "    plt.axis(\"off\")\n",
        "    plt.imshow(img.squeeze(), cmap=\"gray\")\n",
        "plt.show()"
      ],
      "metadata": {
        "colab": {
          "base_uri": "https://localhost:8080/",
          "height": 675
        },
        "id": "V8-UeesTL_Cs",
        "outputId": "7fefa293-87d6-44b7-c75d-d59a011f883e"
      },
      "execution_count": null,
      "outputs": [
        {
          "output_type": "display_data",
          "data": {
            "text/plain": [
              "<Figure size 800x800 with 9 Axes>"
            ],
            "image/png": "[encoded data removed]"
          },
          "metadata": {}
        }
      ]
    },
    {
      "cell_type": "markdown",
      "source": [
        "# Defining the model"
      ],
      "metadata": {
        "id": "Qi6PPOYUWqpZ"
      }
    },
    {
      "cell_type": "code",
      "source": [
        "#Define the neural network architecture\n",
        "class MLP(nn.Module):\n",
        "    def __init__(self):\n",
        "        super(MLP, self).__init__()\n",
        "        self.fc1 = nn.Linear(28 * 28, 128)\n",
        "        self.fc2 = nn.Linear(128, 64)\n",
        "        self.fc3 = nn.Linear(64, 10)\n",
        "\n",
        "    def forward(self, x):\n",
        "        x = x.view(-1, 28 * 28)\n",
        "        x = torch.relu(self.fc1(x))\n",
        "        x = torch.relu(self.fc2(x))\n",
        "        x = self.fc3(x)\n",
        "        return x\n",
        "\n",
        "# Initialize the neural network\n",
        "model = MLP()"
      ],
      "metadata": {
        "id": "BQ94YTqbMF5c"
      },
      "execution_count": 10,
      "outputs": []
    },
    {
      "cell_type": "markdown",
      "source": [
        "# Training the model"
      ],
      "metadata": {
        "id": "utSLv7fgWuQE"
      }
    },
    {
      "cell_type": "code",
      "source": [
        "# Define the loss function and optimizer\n",
        "criterion = nn.CrossEntropyLoss()\n",
        "optimizer = optim.Adam(model.parameters(), lr=0.001)\n",
        "accuracy_list = []\n",
        "\n",
        "# Train the neural network\n",
        "num_epochs = 5\n",
        "for epoch in range(num_epochs):\n",
        "    model.train()\n",
        "    running_loss = 0.0\n",
        "    for i, data in enumerate(train_loader, 0):\n",
        "        inputs, labels = data\n",
        "        optimizer.zero_grad()\n",
        "        outputs = model(inputs)\n",
        "        loss = criterion(outputs, labels)\n",
        "        loss.backward()\n",
        "        optimizer.step()\n",
        "        running_loss += loss.item()\n",
        "        # Compute predicted labels\n",
        "        _, predicted = torch.max(outputs, 1)\n",
        "\n",
        "        # Compute accuracy in the current batch\n",
        "        correct = (predicted == labels).sum().item()\n",
        "        accuracy = correct / labels.size(0)\n",
        "        accuracy_list.append(accuracy)\n",
        "        if i % 100 == 99:  # print every 100 mini-batches\n",
        "            print(f'Epoch {epoch + 1}, Batch {i + 1}, Loss: {running_loss / 100}, Accuracy: {accuracy}')\n",
        "            running_loss = 0.0\n",
        "\n",
        "print('Finished Training')"
      ],
      "metadata": {
        "colab": {
          "base_uri": "https://localhost:8080/"
        },
        "id": "XlQITcL6MPTI",
        "outputId": "89e26e93-da14-407f-fd74-bc7db4214896"
      },
      "execution_count": 11,
      "outputs": [
        {
          "output_type": "stream",
          "name": "stdout",
          "text": [
            "Epoch 1, Batch 100, Loss: 1.036541255414486, Accuracy: 0.890625\n",
            "Epoch 1, Batch 200, Loss: 0.4256257756054401, Accuracy: 0.96875\n",
            "Epoch 1, Batch 300, Loss: 0.38061184152960775, Accuracy: 0.90625\n",
            "Epoch 1, Batch 400, Loss: 0.3319999587535858, Accuracy: 0.953125\n",
            "Epoch 1, Batch 500, Loss: 0.33945866361260413, Accuracy: 0.859375\n",
            "Epoch 1, Batch 600, Loss: 0.3085305067896843, Accuracy: 0.921875\n",
            "Epoch 1, Batch 700, Loss: 0.2895173014700413, Accuracy: 0.9375\n",
            "Epoch 1, Batch 800, Loss: 0.2687413127720356, Accuracy: 0.875\n",
            "Epoch 1, Batch 900, Loss: 0.25262050464749336, Accuracy: 0.9375\n",
            "Epoch 2, Batch 100, Loss: 0.23505075335502623, Accuracy: 0.875\n",
            "Epoch 2, Batch 200, Loss: 0.21711546052247285, Accuracy: 0.9375\n",
            "Epoch 2, Batch 300, Loss: 0.20563804790377616, Accuracy: 0.96875\n",
            "Epoch 2, Batch 400, Loss: 0.1934604348987341, Accuracy: 0.90625\n",
            "Epoch 2, Batch 500, Loss: 0.1902539701014757, Accuracy: 0.984375\n",
            "Epoch 2, Batch 600, Loss: 0.18722608827054502, Accuracy: 0.96875\n",
            "Epoch 2, Batch 700, Loss: 0.18284388031810522, Accuracy: 0.984375\n",
            "Epoch 2, Batch 800, Loss: 0.1649241793900728, Accuracy: 0.9375\n",
            "Epoch 2, Batch 900, Loss: 0.17227179765701295, Accuracy: 0.90625\n",
            "Epoch 3, Batch 100, Loss: 0.14757189311087132, Accuracy: 1.0\n",
            "Epoch 3, Batch 200, Loss: 0.15746588569134473, Accuracy: 1.0\n",
            "Epoch 3, Batch 300, Loss: 0.1348217645287514, Accuracy: 0.984375\n",
            "Epoch 3, Batch 400, Loss: 0.14093047611415385, Accuracy: 0.953125\n",
            "Epoch 3, Batch 500, Loss: 0.14184450114145875, Accuracy: 0.953125\n",
            "Epoch 3, Batch 600, Loss: 0.1352123447880149, Accuracy: 0.953125\n",
            "Epoch 3, Batch 700, Loss: 0.1295713385939598, Accuracy: 0.96875\n",
            "Epoch 3, Batch 800, Loss: 0.14114467097446323, Accuracy: 0.96875\n",
            "Epoch 3, Batch 900, Loss: 0.13732250578701496, Accuracy: 0.96875\n",
            "Epoch 4, Batch 100, Loss: 0.12048063522204756, Accuracy: 0.921875\n",
            "Epoch 4, Batch 200, Loss: 0.10233340111561119, Accuracy: 0.9375\n",
            "Epoch 4, Batch 300, Loss: 0.1272571406606585, Accuracy: 0.96875\n",
            "Epoch 4, Batch 400, Loss: 0.1277951133158058, Accuracy: 0.9375\n",
            "Epoch 4, Batch 500, Loss: 0.10203965654596686, Accuracy: 0.921875\n",
            "Epoch 4, Batch 600, Loss: 0.10993017919361592, Accuracy: 0.984375\n",
            "Epoch 4, Batch 700, Loss: 0.11225761396810413, Accuracy: 0.984375\n",
            "Epoch 4, Batch 800, Loss: 0.11407441863790155, Accuracy: 0.96875\n",
            "Epoch 4, Batch 900, Loss: 0.10681080317124725, Accuracy: 0.953125\n",
            "Epoch 5, Batch 100, Loss: 0.08933807581663132, Accuracy: 0.90625\n",
            "Epoch 5, Batch 200, Loss: 0.09323324218392372, Accuracy: 0.96875\n",
            "Epoch 5, Batch 300, Loss: 0.09667538376525045, Accuracy: 1.0\n",
            "Epoch 5, Batch 400, Loss: 0.1137968771159649, Accuracy: 0.921875\n",
            "Epoch 5, Batch 500, Loss: 0.07753011269494892, Accuracy: 0.984375\n",
            "Epoch 5, Batch 600, Loss: 0.10175174752250314, Accuracy: 0.96875\n",
            "Epoch 5, Batch 700, Loss: 0.09451185220852494, Accuracy: 0.96875\n",
            "Epoch 5, Batch 800, Loss: 0.10909445434808732, Accuracy: 0.96875\n",
            "Epoch 5, Batch 900, Loss: 0.09697446669451892, Accuracy: 0.984375\n",
            "Finished Training\n"
          ]
        }
      ]
    },
    {
      "cell_type": "markdown",
      "source": [
        "# Get training accuracy"
      ],
      "metadata": {
        "id": "XGZRGt4ZXXwQ"
      }
    },
    {
      "cell_type": "code",
      "source": [
        "print('Final training accuracy: ', accuracy_list[-1])"
      ],
      "metadata": {
        "colab": {
          "base_uri": "https://localhost:8080/"
        },
        "id": "iPMkly9WW8xr",
        "outputId": "8d71fe48-469d-42d2-aa48-5c01f859a486"
      },
      "execution_count": 14,
      "outputs": [
        {
          "output_type": "stream",
          "name": "stdout",
          "text": [
            "Final training accuracy:  0.96875\n"
          ]
        }
      ]
    },
    {
      "cell_type": "markdown",
      "source": [
        "# Evaluate and get test accuracy"
      ],
      "metadata": {
        "id": "YYuqazr4Xdc1"
      }
    },
    {
      "cell_type": "code",
      "source": [
        "# Evaluate the model\n",
        "model.eval()\n",
        "correct = 0\n",
        "total = 0\n",
        "with torch.no_grad():\n",
        "    for data in test_loader:\n",
        "        images, labels = data\n",
        "        outputs = model(images)\n",
        "        _, predicted = torch.max(outputs.data, 1)\n",
        "        total += labels.size(0)\n",
        "        correct += (predicted == labels).sum().item()\n",
        "\n",
        "print(f'Accuracy on test set: { correct / total}%')"
      ],
      "metadata": {
        "colab": {
          "base_uri": "https://localhost:8080/"
        },
        "id": "fwQAXt_qMT_X",
        "outputId": "424298e6-e9df-4c81-e0e5-d0c4f44b99de"
      },
      "execution_count": null,
      "outputs": [
        {
          "output_type": "stream",
          "name": "stdout",
          "text": [
            "Accuracy on test set: 0.9585666666666667%\n"
          ]
        }
      ]
    },
    {
      "cell_type": "code",
      "source": [
        "# Evaluate the model and store predictions\n",
        "model.eval()\n",
        "predictions = []\n",
        "labels_actual = []\n",
        "images_tensor = torch.tensor()\n",
        "correct = 0\n",
        "total = 0\n",
        "with torch.no_grad():\n",
        "    for data in test_loader:\n",
        "        images, labels = data\n",
        "        labels_actual.extend(labels.numpy())\n",
        "        outputs = model(images)\n",
        "        _, predicted = torch.max(outputs.data, 1)\n",
        "        predictions.extend(predicted.numpy())  # Store predictions\n",
        "        total += labels.size(0)\n",
        "        correct += (predicted == labels).sum().item()"
      ],
      "metadata": {
        "id": "gGQ3ExSnMkCm"
      },
      "execution_count": null,
      "outputs": []
    },
    {
      "cell_type": "markdown",
      "source": [
        "# Test one image for its label"
      ],
      "metadata": {
        "id": "zZLq7lMoXjoA"
      }
    },
    {
      "cell_type": "code",
      "source": [
        "# Get one test image and its label\n",
        "image, label = images[0], labels[0]\n",
        "\n",
        "# Reshape the image tensor to a 28x28 shape\n",
        "image = image.view(28, 28)\n",
        "\n",
        "# Convert the image tensor to a numpy array for visualization\n",
        "image_numpy = image.numpy()\n",
        "\n",
        "# Show the image\n",
        "plt.imshow(image_numpy, cmap='gray')\n",
        "plt.title(f'Predicted Label: {predicted[0]}, Actual Label: {label.item()}')\n",
        "plt.axis('off')\n",
        "plt.show()"
      ],
      "metadata": {
        "colab": {
          "base_uri": "https://localhost:8080/",
          "height": 428
        },
        "id": "txuqgmFNMnYq",
        "outputId": "8f340981-5029-4915-8c0e-6addb7dbdf5a"
      },
      "execution_count": null,
      "outputs": [
        {
          "output_type": "display_data",
          "data": {
            "text/plain": [
              "<Figure size 640x480 with 1 Axes>"
            ],
            "image/png": "[encoded data removed]"
          },
          "metadata": {}
        }
      ]
    },
    {
      "cell_type": "markdown",
      "source": [
        "# Lets add one more dense layer of 128 nodes\n",
        "\n",
        "If we add one more layer the accuracy of the model has to improve as it can capture much complex relationships."
      ],
      "metadata": {
        "id": "pupcKALSajdk"
      }
    },
    {
      "cell_type": "code",
      "source": [
        "#Define the neural network architecture\n",
        "class MLP_ExtraDense(nn.Module):\n",
        "    def __init__(self):\n",
        "        super(MLP_ExtraDense, self).__init__()\n",
        "        self.fc1 = nn.Linear(28 * 28, 128)\n",
        "        self.fc2 = nn.Linear(128, 128)\n",
        "        self.fc3 = nn.Linear(128, 64)\n",
        "        self.fc4 = nn.Linear(64, 10)\n",
        "\n",
        "    def forward(self, x):\n",
        "        x = x.view(-1, 28 * 28)\n",
        "        x = torch.relu(self.fc1(x))\n",
        "        x = torch.relu(self.fc2(x))\n",
        "        x = torch.relu(self.fc3(x))\n",
        "        x = self.fc4(x)\n",
        "        return x\n",
        "\n",
        "# Initialize the neural network\n",
        "model_ED = MLP_ExtraDense()"
      ],
      "metadata": {
        "id": "fGbVySwuajGa"
      },
      "execution_count": null,
      "outputs": []
    },
    {
      "cell_type": "code",
      "source": [
        "# Define the loss function and optimizer\n",
        "criterion = nn.CrossEntropyLoss()\n",
        "optimizer = optim.Adam(model_ED.parameters(), lr=0.001)\n",
        "accuracy_list = []\n",
        "\n",
        "# Train the neural network\n",
        "num_epochs = 5\n",
        "for epoch in range(num_epochs):\n",
        "    model_ED.train()\n",
        "    running_loss = 0.0\n",
        "    for i, data in enumerate(train_loader, 0):\n",
        "        inputs, labels = data\n",
        "        optimizer.zero_grad()\n",
        "        outputs = model_ED(inputs)\n",
        "        loss = criterion(outputs, labels)\n",
        "        loss.backward()\n",
        "        optimizer.step()\n",
        "        running_loss += loss.item()\n",
        "        # Compute predicted labels\n",
        "        _, predicted = torch.max(outputs, 1)\n",
        "\n",
        "        # Compute accuracy in the current batch\n",
        "        correct = (predicted == labels).sum().item()\n",
        "        accuracy = correct / labels.size(0)\n",
        "        accuracy_list.append(accuracy)\n",
        "        if i % 100 == 99:  # print every 100 mini-batches\n",
        "            print(f'Epoch {epoch + 1}, Batch {i + 1}, Loss: {running_loss / 100}, Accuracy: {accuracy}')\n",
        "            running_loss = 0.0\n",
        "\n",
        "print('Finished Training')"
      ],
      "metadata": {
        "colab": {
          "base_uri": "https://localhost:8080/"
        },
        "id": "VCisZmmyb-7K",
        "outputId": "d4ef686e-c0ba-40e8-8e12-86a54423ab85"
      },
      "execution_count": null,
      "outputs": [
        {
          "output_type": "stream",
          "name": "stdout",
          "text": [
            "Epoch 1, Batch 100, Loss: 1.0908314937353134, Accuracy: 0.921875\n",
            "Epoch 1, Batch 200, Loss: 0.4582017827033997, Accuracy: 0.84375\n",
            "Epoch 1, Batch 300, Loss: 0.3937344796955585, Accuracy: 0.921875\n",
            "Epoch 1, Batch 400, Loss: 0.3296235267072916, Accuracy: 0.859375\n",
            "Epoch 1, Batch 500, Loss: 0.32438005663454533, Accuracy: 0.859375\n",
            "Epoch 1, Batch 600, Loss: 0.27785587422549723, Accuracy: 0.921875\n",
            "Epoch 1, Batch 700, Loss: 0.27458321340382097, Accuracy: 0.9375\n",
            "Epoch 1, Batch 800, Loss: 0.26916269704699514, Accuracy: 0.90625\n",
            "Epoch 1, Batch 900, Loss: 0.2403833417594433, Accuracy: 0.953125\n",
            "Epoch 2, Batch 100, Loss: 0.19989960327744483, Accuracy: 0.890625\n",
            "Epoch 2, Batch 200, Loss: 0.19475963905453683, Accuracy: 0.9375\n",
            "Epoch 2, Batch 300, Loss: 0.20979110967367887, Accuracy: 0.9375\n",
            "Epoch 2, Batch 400, Loss: 0.18459630079567432, Accuracy: 0.921875\n",
            "Epoch 2, Batch 500, Loss: 0.17785706982016564, Accuracy: 0.90625\n",
            "Epoch 2, Batch 600, Loss: 0.15860293805599213, Accuracy: 0.984375\n",
            "Epoch 2, Batch 700, Loss: 0.18619960587471723, Accuracy: 0.9375\n",
            "Epoch 2, Batch 800, Loss: 0.1719574074447155, Accuracy: 0.9375\n",
            "Epoch 2, Batch 900, Loss: 0.1605420857667923, Accuracy: 0.921875\n",
            "Epoch 3, Batch 100, Loss: 0.13226710783317686, Accuracy: 0.984375\n",
            "Epoch 3, Batch 200, Loss: 0.13444531556218864, Accuracy: 1.0\n",
            "Epoch 3, Batch 300, Loss: 0.14891134276986123, Accuracy: 0.953125\n",
            "Epoch 3, Batch 400, Loss: 0.14285321321338415, Accuracy: 0.953125\n",
            "Epoch 3, Batch 500, Loss: 0.12452376745641232, Accuracy: 0.96875\n",
            "Epoch 3, Batch 600, Loss: 0.12253466960042715, Accuracy: 0.953125\n",
            "Epoch 3, Batch 700, Loss: 0.13298682026565076, Accuracy: 0.953125\n",
            "Epoch 3, Batch 800, Loss: 0.12789201986044646, Accuracy: 0.96875\n",
            "Epoch 3, Batch 900, Loss: 0.11125897012650966, Accuracy: 0.96875\n",
            "Epoch 4, Batch 100, Loss: 0.1180958004668355, Accuracy: 0.984375\n",
            "Epoch 4, Batch 200, Loss: 0.10874562627635896, Accuracy: 0.953125\n",
            "Epoch 4, Batch 300, Loss: 0.11757540702819824, Accuracy: 0.953125\n",
            "Epoch 4, Batch 400, Loss: 0.10116314068436623, Accuracy: 0.984375\n",
            "Epoch 4, Batch 500, Loss: 0.10552894913591444, Accuracy: 0.953125\n",
            "Epoch 4, Batch 600, Loss: 0.11065824124962091, Accuracy: 1.0\n",
            "Epoch 4, Batch 700, Loss: 0.11120706832967699, Accuracy: 0.984375\n",
            "Epoch 4, Batch 800, Loss: 0.10665049312636256, Accuracy: 0.921875\n",
            "Epoch 4, Batch 900, Loss: 0.11651387203950435, Accuracy: 0.984375\n",
            "Epoch 5, Batch 100, Loss: 0.08039170291740447, Accuracy: 0.96875\n",
            "Epoch 5, Batch 200, Loss: 0.09863537838682532, Accuracy: 0.96875\n",
            "Epoch 5, Batch 300, Loss: 0.08504930578172207, Accuracy: 0.984375\n",
            "Epoch 5, Batch 400, Loss: 0.09223213757388293, Accuracy: 0.953125\n",
            "Epoch 5, Batch 500, Loss: 0.10908888912759722, Accuracy: 0.953125\n",
            "Epoch 5, Batch 600, Loss: 0.0927765207272023, Accuracy: 0.984375\n",
            "Epoch 5, Batch 700, Loss: 0.09548927204217762, Accuracy: 0.96875\n",
            "Epoch 5, Batch 800, Loss: 0.08709989682771266, Accuracy: 0.984375\n",
            "Epoch 5, Batch 900, Loss: 0.0874814536422491, Accuracy: 0.984375\n",
            "Finished Training\n"
          ]
        }
      ]
    },
    {
      "cell_type": "markdown",
      "source": [
        "# Train accuracy after introducing one more hidden layer with 128 nodes"
      ],
      "metadata": {
        "id": "3smN8uF-Xw0C"
      }
    },
    {
      "cell_type": "code",
      "source": [
        "print('Final training accuracy: ', accuracy_list[-1])"
      ],
      "metadata": {
        "colab": {
          "base_uri": "https://localhost:8080/"
        },
        "id": "JlHrwXdFcRj2",
        "outputId": "e2689859-c4ff-4da1-f993-4e3319804858"
      },
      "execution_count": 15,
      "outputs": [
        {
          "output_type": "stream",
          "name": "stdout",
          "text": [
            "Final training accuracy:  0.984375\n"
          ]
        }
      ]
    },
    {
      "cell_type": "markdown",
      "source": [
        "# Evaluate the model with test data after introducing one more hidden layer with 128 nodes."
      ],
      "metadata": {
        "id": "MBWPGkdsYFF0"
      }
    },
    {
      "cell_type": "code",
      "source": [
        "# Evaluate the model_ED\n",
        "model_ED.eval()\n",
        "correct = 0\n",
        "total = 0\n",
        "with torch.no_grad():\n",
        "    for data in test_loader:\n",
        "        images, labels = data\n",
        "        outputs = model_ED(images)\n",
        "        _, predicted = torch.max(outputs.data, 1)\n",
        "        total += labels.size(0)\n",
        "        correct += (predicted == labels).sum().item()\n",
        "\n",
        "print(f'Accuracy on test set: { correct / total}%')"
      ],
      "metadata": {
        "colab": {
          "base_uri": "https://localhost:8080/"
        },
        "id": "NLnVtr8KceY-",
        "outputId": "19e46c22-9ccc-4401-d436-3701b68d1296"
      },
      "execution_count": null,
      "outputs": [
        {
          "output_type": "stream",
          "name": "stdout",
          "text": [
            "Accuracy on test set: 0.966%\n"
          ]
        }
      ]
    },
    {
      "cell_type": "markdown",
      "source": [
        "# Both train and test accuracy has increased after introducing an additional hidden layer with 128 nodes. This matches our hypothesis."
      ],
      "metadata": {
        "id": "Eolh_3rFYSQI"
      }
    },
    {
      "cell_type": "markdown",
      "source": [
        "# Lets increase the number of nodes in the hidden layer to 256\n",
        "\n",
        "If the number of nodes increase then there is high chance that the accuracy of the model also increase as it can capture much complex relationships. But it depends on varius factors."
      ],
      "metadata": {
        "id": "y-Rm8CsNlb2E"
      }
    },
    {
      "cell_type": "code",
      "source": [
        "#Define the neural network architecture\n",
        "class MLP_ExtraWide(nn.Module):\n",
        "    def __init__(self):\n",
        "        super(MLP_ExtraWide, self).__init__()\n",
        "        self.fc1 = nn.Linear(28 * 28, 256)\n",
        "        self.fc2 = nn.Linear(256, 64)\n",
        "        self.fc3 = nn.Linear(64, 10)\n",
        "\n",
        "    def forward(self, x):\n",
        "        x = x.view(-1, 28 * 28)\n",
        "        x = torch.relu(self.fc1(x))\n",
        "        x = torch.relu(self.fc2(x))\n",
        "        x = self.fc3(x)\n",
        "        return x\n",
        "\n",
        "# Initialize the neural network\n",
        "model = MLP_ExtraWide()"
      ],
      "metadata": {
        "id": "CQY5--wRcpeA"
      },
      "execution_count": null,
      "outputs": []
    },
    {
      "cell_type": "code",
      "source": [
        "# Define the loss function and optimizer\n",
        "criterion = nn.CrossEntropyLoss()\n",
        "optimizer = optim.Adam(model.parameters(), lr=0.001)\n",
        "accuracy_list = []\n",
        "\n",
        "# Train the neural network\n",
        "num_epochs = 5\n",
        "for epoch in range(num_epochs):\n",
        "    model.train()\n",
        "    running_loss = 0.0\n",
        "    for i, data in enumerate(train_loader, 0):\n",
        "        inputs, labels = data\n",
        "        optimizer.zero_grad()\n",
        "        outputs = model(inputs)\n",
        "        loss = criterion(outputs, labels)\n",
        "        loss.backward()\n",
        "        optimizer.step()\n",
        "        running_loss += loss.item()\n",
        "        # Compute predicted labels\n",
        "        _, predicted = torch.max(outputs, 1)\n",
        "\n",
        "        # Compute accuracy in the current batch\n",
        "        correct = (predicted == labels).sum().item()\n",
        "        accuracy = correct / labels.size(0)\n",
        "        accuracy_list.append(accuracy)\n",
        "        if i % 100 == 99:  # print every 100 mini-batches\n",
        "            print(f'Epoch {epoch + 1}, Batch {i + 1}, Loss: {running_loss / 100}, Accuracy: {accuracy}')\n",
        "            running_loss = 0.0\n",
        "\n",
        "print('Finished Training')"
      ],
      "metadata": {
        "colab": {
          "base_uri": "https://localhost:8080/"
        },
        "id": "qRvKYsKs37JH",
        "outputId": "bff485ae-0da5-4a54-d018-2c07861599a8"
      },
      "execution_count": null,
      "outputs": [
        {
          "output_type": "stream",
          "name": "stdout",
          "text": [
            "Epoch 1, Batch 100, Loss: 0.8794121161103249, Accuracy: 0.796875\n",
            "Epoch 1, Batch 200, Loss: 0.4131761087477207, Accuracy: 0.875\n",
            "Epoch 1, Batch 300, Loss: 0.3387080562859774, Accuracy: 0.859375\n",
            "Epoch 1, Batch 400, Loss: 0.31678474850952626, Accuracy: 0.875\n",
            "Epoch 1, Batch 500, Loss: 0.2803440737724304, Accuracy: 0.875\n",
            "Epoch 1, Batch 600, Loss: 0.2571839462965727, Accuracy: 0.96875\n",
            "Epoch 1, Batch 700, Loss: 0.2268307425454259, Accuracy: 0.890625\n",
            "Epoch 1, Batch 800, Loss: 0.21294144384562969, Accuracy: 0.953125\n",
            "Epoch 1, Batch 900, Loss: 0.21409927871078252, Accuracy: 0.890625\n",
            "Epoch 2, Batch 100, Loss: 0.16780395202338697, Accuracy: 0.890625\n",
            "Epoch 2, Batch 200, Loss: 0.17049898192286492, Accuracy: 1.0\n",
            "Epoch 2, Batch 300, Loss: 0.17692255198955537, Accuracy: 0.921875\n",
            "Epoch 2, Batch 400, Loss: 0.15507751233875752, Accuracy: 0.953125\n",
            "Epoch 2, Batch 500, Loss: 0.14057158013805748, Accuracy: 0.96875\n",
            "Epoch 2, Batch 600, Loss: 0.15438833562657236, Accuracy: 0.953125\n",
            "Epoch 2, Batch 700, Loss: 0.14617818335071206, Accuracy: 0.96875\n",
            "Epoch 2, Batch 800, Loss: 0.1442332044057548, Accuracy: 1.0\n",
            "Epoch 2, Batch 900, Loss: 0.13895968455821275, Accuracy: 0.96875\n",
            "Epoch 3, Batch 100, Loss: 0.10571941286325455, Accuracy: 0.984375\n",
            "Epoch 3, Batch 200, Loss: 0.13054192528128625, Accuracy: 0.984375\n",
            "Epoch 3, Batch 300, Loss: 0.11686947545036673, Accuracy: 0.921875\n",
            "Epoch 3, Batch 400, Loss: 0.1129436284955591, Accuracy: 0.96875\n",
            "Epoch 3, Batch 500, Loss: 0.11229239113628864, Accuracy: 0.96875\n",
            "Epoch 3, Batch 600, Loss: 0.11111230586655438, Accuracy: 0.953125\n",
            "Epoch 3, Batch 700, Loss: 0.11355725327506662, Accuracy: 0.921875\n",
            "Epoch 3, Batch 800, Loss: 0.11440023770555854, Accuracy: 0.984375\n",
            "Epoch 3, Batch 900, Loss: 0.10815392846241594, Accuracy: 0.984375\n",
            "Epoch 4, Batch 100, Loss: 0.0904807011410594, Accuracy: 0.9375\n",
            "Epoch 4, Batch 200, Loss: 0.0857347372174263, Accuracy: 0.984375\n",
            "Epoch 4, Batch 300, Loss: 0.094782459102571, Accuracy: 0.96875\n",
            "Epoch 4, Batch 400, Loss: 0.09896402971819043, Accuracy: 0.953125\n",
            "Epoch 4, Batch 500, Loss: 0.0918830231949687, Accuracy: 1.0\n",
            "Epoch 4, Batch 600, Loss: 0.08670193043071776, Accuracy: 0.96875\n",
            "Epoch 4, Batch 700, Loss: 0.10296479122713208, Accuracy: 0.921875\n",
            "Epoch 4, Batch 800, Loss: 0.09154343764297664, Accuracy: 0.984375\n",
            "Epoch 4, Batch 900, Loss: 0.0951634581014514, Accuracy: 0.984375\n",
            "Epoch 5, Batch 100, Loss: 0.07344324201345444, Accuracy: 0.953125\n",
            "Epoch 5, Batch 200, Loss: 0.07449038098100573, Accuracy: 0.953125\n",
            "Epoch 5, Batch 300, Loss: 0.08544468539766967, Accuracy: 1.0\n",
            "Epoch 5, Batch 400, Loss: 0.08985489408485592, Accuracy: 0.984375\n",
            "Epoch 5, Batch 500, Loss: 0.08181105731520802, Accuracy: 0.96875\n",
            "Epoch 5, Batch 600, Loss: 0.08060477513354272, Accuracy: 0.96875\n",
            "Epoch 5, Batch 700, Loss: 0.07279943109606393, Accuracy: 0.9375\n",
            "Epoch 5, Batch 800, Loss: 0.07625962193589658, Accuracy: 0.984375\n",
            "Epoch 5, Batch 900, Loss: 0.07995180201716721, Accuracy: 0.984375\n",
            "Finished Training\n"
          ]
        }
      ]
    },
    {
      "cell_type": "markdown",
      "source": [
        "# Training accuracy after increasing the nodes in hidden layer to 256"
      ],
      "metadata": {
        "id": "4mtZi4UAY0SB"
      }
    },
    {
      "cell_type": "code",
      "source": [
        "print('Final training accuracy: ', accuracy_list[-1])"
      ],
      "metadata": {
        "colab": {
          "base_uri": "https://localhost:8080/"
        },
        "id": "iGfNRLrR4Ly8",
        "outputId": "7afe3b16-1997-4c17-a0cf-fe02695e5def"
      },
      "execution_count": 16,
      "outputs": [
        {
          "output_type": "stream",
          "name": "stdout",
          "text": [
            "Final training accuracy:  0.984375\n"
          ]
        }
      ]
    },
    {
      "cell_type": "markdown",
      "source": [
        "# Test accuracy after increasing the nodes in hidden layer to 256"
      ],
      "metadata": {
        "id": "aZrc4UzHY9n6"
      }
    },
    {
      "cell_type": "code",
      "source": [
        "# Evaluate the model\n",
        "model.eval()\n",
        "correct = 0\n",
        "total = 0\n",
        "with torch.no_grad():\n",
        "    for data in train_loader:\n",
        "        images, labels = data\n",
        "        outputs = model(images)\n",
        "        _, predicted = torch.max(outputs.data, 1)\n",
        "        total += labels.size(0)\n",
        "        correct += (predicted == labels).sum().item()\n",
        "\n",
        "print(f'Accuracy on train set: { correct / total}%')"
      ],
      "metadata": {
        "colab": {
          "base_uri": "https://localhost:8080/"
        },
        "id": "bmYfDl-vD7Xz",
        "outputId": "950ec9b3-527c-4289-d352-3a23a9065c2d"
      },
      "execution_count": null,
      "outputs": [
        {
          "output_type": "stream",
          "name": "stdout",
          "text": [
            "Accuracy on train set: 0.98295%\n"
          ]
        }
      ]
    },
    {
      "cell_type": "code",
      "source": [
        "# Evaluate the model\n",
        "model.eval()\n",
        "correct = 0\n",
        "total = 0\n",
        "with torch.no_grad():\n",
        "    for data in test_loader:\n",
        "        images, labels = data\n",
        "        outputs = model(images)\n",
        "        _, predicted = torch.max(outputs.data, 1)\n",
        "        total += labels.size(0)\n",
        "        correct += (predicted == labels).sum().item()\n",
        "\n",
        "print(f'Accuracy on test set: { correct / total}%')"
      ],
      "metadata": {
        "colab": {
          "base_uri": "https://localhost:8080/"
        },
        "id": "AHp4gKoH4SAX",
        "outputId": "ab2ecda0-ec46-4d5e-d4c8-85db90b486d6"
      },
      "execution_count": null,
      "outputs": [
        {
          "output_type": "stream",
          "name": "stdout",
          "text": [
            "Accuracy on test set: 0.9710666666666666%\n"
          ]
        }
      ]
    },
    {
      "cell_type": "markdown",
      "source": [
        "# Both train and test accuracy has increased after increasing the number of nodes in hidden layer from 128 nodes to 256. This matches our hypothesis."
      ],
      "metadata": {
        "id": "uhatjCvNYjeV"
      }
    },
    {
      "cell_type": "markdown",
      "source": [
        "# Performing Hyperparameter tuning"
      ],
      "metadata": {
        "id": "0F9RpofHZBRc"
      }
    },
    {
      "cell_type": "code",
      "source": [
        "#Define the neural network architecture with relu activation function\n",
        "class MLP_relu(nn.Module):\n",
        "    def __init__(self):\n",
        "        super(MLP_relu, self).__init__()\n",
        "        self.fc1 = nn.Linear(28 * 28, 128)\n",
        "        self.fc2 = nn.Linear(128, 64)\n",
        "        self.fc3 = nn.Linear(64, 10)\n",
        "\n",
        "    def forward(self, x):\n",
        "        x = x.view(-1, 28 * 28)\n",
        "        x = torch.relu(self.fc1(x))\n",
        "        x = torch.relu(self.fc2(x))\n",
        "        x = self.fc3(x)\n",
        "        return x"
      ],
      "metadata": {
        "id": "kYoNZAo-LfUH"
      },
      "execution_count": 3,
      "outputs": []
    },
    {
      "cell_type": "code",
      "source": [
        "#Define the neural network architecture with sigmoid activation function\n",
        "class MLP_sigmoid(nn.Module):\n",
        "    def __init__(self):\n",
        "        super(MLP_sigmoid, self).__init__()\n",
        "        self.fc1 = nn.Linear(28 * 28, 128)\n",
        "        self.fc2 = nn.Linear(128, 64)\n",
        "        self.fc3 = nn.Linear(64, 10)\n",
        "\n",
        "    def forward(self, x):\n",
        "        x = x.view(-1, 28 * 28)\n",
        "        x = torch.sigmoid(self.fc1(x))\n",
        "        x = torch.sigmoid(self.fc2(x))\n",
        "        x = self.fc3(x)\n",
        "        return x"
      ],
      "metadata": {
        "id": "M-9tN2rpGABR"
      },
      "execution_count": 4,
      "outputs": []
    },
    {
      "cell_type": "markdown",
      "source": [
        "Drop out layers acts as regularization units and helps in reducing overfitting"
      ],
      "metadata": {
        "id": "dlFz-f_OZRir"
      }
    },
    {
      "cell_type": "code",
      "source": [
        "#Define the neural network architecture with dropout in the input layer or visible layers\n",
        "class MLP_dropout_input(nn.Module):\n",
        "    def __init__(self):\n",
        "        super(MLP_dropout_input, self).__init__()\n",
        "        self.dropout = nn.Dropout(0.2)\n",
        "        self.fc1 = nn.Linear(28 * 28, 128)\n",
        "        self.fc2 = nn.Linear(128, 64)\n",
        "        self.fc3 = nn.Linear(64, 10)\n",
        "\n",
        "    def forward(self, x):\n",
        "        x = x.view(-1, 28 * 28)\n",
        "        x = torch.relu(self.fc1(x))\n",
        "        x = torch.relu(self.fc2(x))\n",
        "        x = self.fc3(x)\n",
        "        return x"
      ],
      "metadata": {
        "id": "YpnJD-xsLqn-"
      },
      "execution_count": 5,
      "outputs": []
    },
    {
      "cell_type": "code",
      "source": [
        "#Define the neural network architecture with dropout in the hidden layers which is more common\n",
        "class MLP_dropout_hidden(nn.Module):\n",
        "    def __init__(self):\n",
        "        super(MLP_dropout_hidden, self).__init__()\n",
        "        self.fc1 = nn.Linear(28 * 28, 128)\n",
        "        self.dropout = nn.Dropout(0.2)\n",
        "        self.fc2 = nn.Linear(128, 64)\n",
        "        self.dropout = nn.Dropout(0.2)\n",
        "        self.fc3 = nn.Linear(64, 10)\n",
        "\n",
        "    def forward(self, x):\n",
        "        x = x.view(-1, 28 * 28)\n",
        "        x = torch.relu(self.fc1(x))\n",
        "        x = torch.relu(self.fc2(x))\n",
        "        x = self.fc3(x)\n",
        "        return x"
      ],
      "metadata": {
        "id": "G0ZmD1uIMZxy"
      },
      "execution_count": 6,
      "outputs": []
    },
    {
      "cell_type": "code",
      "source": [
        "def model_evaluate(model):\n",
        "  model.eval()\n",
        "  correct = 0\n",
        "  total = 0\n",
        "  with torch.no_grad():\n",
        "    for data in test_loader:\n",
        "        images, labels = data\n",
        "        outputs = model(images)\n",
        "        _, predicted = torch.max(outputs.data, 1)\n",
        "        total += labels.size(0)\n",
        "        correct += (predicted == labels).sum().item()\n",
        "\n",
        "  accuracy = correct / total\n",
        "  return accuracy"
      ],
      "metadata": {
        "id": "DIaoL9u5SMMu"
      },
      "execution_count": 7,
      "outputs": []
    },
    {
      "cell_type": "code",
      "source": [
        "model_list = list()\n",
        "loss_list = list()\n",
        "optimizer_list = list()\n",
        "accuracy_list = list()"
      ],
      "metadata": {
        "id": "Ua8KYqUUPoIb"
      },
      "execution_count": 8,
      "outputs": []
    },
    {
      "cell_type": "code",
      "source": [
        "# models with relu and sigmoid activation function\n",
        "models_activation_dropout = [MLP_relu(), MLP_sigmoid(), MLP_dropout_input(), MLP_dropout_hidden()]\n",
        "loss = [nn.CrossEntropyLoss()]\n",
        "optimizer_list = ['Adam', 'SGD'] # choose 1 for Adam optimizer and 2 for SGD optimizer\n",
        "num_epochs = 5\n",
        "accuracy_list = []\n",
        "\n",
        "for loss_func in loss:\n",
        "  for optimize in optimizer_list:\n",
        "    for model in models_activation_dropout:\n",
        "      for epoch in range(num_epochs):\n",
        "        # Define the loss function and optimizer\n",
        "        model.train()\n",
        "        criterion = loss_func\n",
        "        if(optimize=='Adam'):\n",
        "          optimizer = optim.Adam(model.parameters(), lr=0.001)\n",
        "        else:\n",
        "          optimizer = optim.SGD(model.parameters(), lr=0.001)\n",
        "        print('model: ', model.__class__.__name__)\n",
        "        print('loss: ', loss_func)\n",
        "        print('Optimizer: ', optimize)\n",
        "        running_loss = 0.0\n",
        "        print('epoch: ', epoch)\n",
        "        for i, data in enumerate(train_loader, 0):\n",
        "          inputs, labels = data\n",
        "          optimizer.zero_grad()\n",
        "          outputs = model(inputs)\n",
        "          loss = criterion(outputs, labels)\n",
        "          loss.backward()\n",
        "          optimizer.step()\n",
        "\n",
        "        acc = model_evaluate(model)\n",
        "        print('Accuracy: ', round(acc, 4))"
      ],
      "metadata": {
        "colab": {
          "base_uri": "https://localhost:8080/"
        },
        "id": "lTM717rb5_v3",
        "outputId": "2f5ee222-6690-440b-9bc5-eef87a580763"
      },
      "execution_count": 9,
      "outputs": [
        {
          "output_type": "stream",
          "name": "stdout",
          "text": [
            "model:  MLP_relu\n",
            "loss:  CrossEntropyLoss()\n",
            "Optimizer:  Adam\n",
            "epoch:  0\n",
            "Accuracy:  0.9358\n",
            "model:  MLP_relu\n",
            "loss:  CrossEntropyLoss()\n",
            "Optimizer:  Adam\n",
            "epoch:  1\n",
            "Accuracy:  0.9456\n",
            "model:  MLP_relu\n",
            "loss:  CrossEntropyLoss()\n",
            "Optimizer:  Adam\n",
            "epoch:  2\n",
            "Accuracy:  0.9626\n",
            "model:  MLP_relu\n",
            "loss:  CrossEntropyLoss()\n",
            "Optimizer:  Adam\n",
            "epoch:  3\n",
            "Accuracy:  0.9636\n",
            "model:  MLP_relu\n",
            "loss:  CrossEntropyLoss()\n",
            "Optimizer:  Adam\n",
            "epoch:  4\n",
            "Accuracy:  0.9678\n",
            "model:  MLP_sigmoid\n",
            "loss:  CrossEntropyLoss()\n",
            "Optimizer:  Adam\n",
            "epoch:  0\n",
            "Accuracy:  0.918\n",
            "model:  MLP_sigmoid\n",
            "loss:  CrossEntropyLoss()\n",
            "Optimizer:  Adam\n",
            "epoch:  1\n",
            "Accuracy:  0.9439\n",
            "model:  MLP_sigmoid\n",
            "loss:  CrossEntropyLoss()\n",
            "Optimizer:  Adam\n",
            "epoch:  2\n",
            "Accuracy:  0.9596\n",
            "model:  MLP_sigmoid\n",
            "loss:  CrossEntropyLoss()\n",
            "Optimizer:  Adam\n",
            "epoch:  3\n",
            "Accuracy:  0.9613\n",
            "model:  MLP_sigmoid\n",
            "loss:  CrossEntropyLoss()\n",
            "Optimizer:  Adam\n",
            "epoch:  4\n",
            "Accuracy:  0.9635\n",
            "model:  MLP_dropout_input\n",
            "loss:  CrossEntropyLoss()\n",
            "Optimizer:  Adam\n",
            "epoch:  0\n",
            "Accuracy:  0.9216\n",
            "model:  MLP_dropout_input\n",
            "loss:  CrossEntropyLoss()\n",
            "Optimizer:  Adam\n",
            "epoch:  1\n",
            "Accuracy:  0.9468\n",
            "model:  MLP_dropout_input\n",
            "loss:  CrossEntropyLoss()\n",
            "Optimizer:  Adam\n",
            "epoch:  2\n",
            "Accuracy:  0.9589\n",
            "model:  MLP_dropout_input\n",
            "loss:  CrossEntropyLoss()\n",
            "Optimizer:  Adam\n",
            "epoch:  3\n",
            "Accuracy:  0.9633\n",
            "model:  MLP_dropout_input\n",
            "loss:  CrossEntropyLoss()\n",
            "Optimizer:  Adam\n",
            "epoch:  4\n",
            "Accuracy:  0.9646\n",
            "model:  MLP_dropout_hidden\n",
            "loss:  CrossEntropyLoss()\n",
            "Optimizer:  Adam\n",
            "epoch:  0\n",
            "Accuracy:  0.9268\n",
            "model:  MLP_dropout_hidden\n",
            "loss:  CrossEntropyLoss()\n",
            "Optimizer:  Adam\n",
            "epoch:  1\n",
            "Accuracy:  0.9485\n",
            "model:  MLP_dropout_hidden\n",
            "loss:  CrossEntropyLoss()\n",
            "Optimizer:  Adam\n",
            "epoch:  2\n",
            "Accuracy:  0.9506\n",
            "model:  MLP_dropout_hidden\n",
            "loss:  CrossEntropyLoss()\n",
            "Optimizer:  Adam\n",
            "epoch:  3\n",
            "Accuracy:  0.9623\n",
            "model:  MLP_dropout_hidden\n",
            "loss:  CrossEntropyLoss()\n",
            "Optimizer:  Adam\n",
            "epoch:  4\n",
            "Accuracy:  0.9539\n",
            "model:  MLP_relu\n",
            "loss:  CrossEntropyLoss()\n",
            "Optimizer:  SGD\n",
            "epoch:  0\n",
            "Accuracy:  0.9725\n",
            "model:  MLP_relu\n",
            "loss:  CrossEntropyLoss()\n",
            "Optimizer:  SGD\n",
            "epoch:  1\n",
            "Accuracy:  0.9735\n",
            "model:  MLP_relu\n",
            "loss:  CrossEntropyLoss()\n",
            "Optimizer:  SGD\n",
            "epoch:  2\n",
            "Accuracy:  0.974\n",
            "model:  MLP_relu\n",
            "loss:  CrossEntropyLoss()\n",
            "Optimizer:  SGD\n",
            "epoch:  3\n",
            "Accuracy:  0.9743\n",
            "model:  MLP_relu\n",
            "loss:  CrossEntropyLoss()\n",
            "Optimizer:  SGD\n",
            "epoch:  4\n",
            "Accuracy:  0.9746\n",
            "model:  MLP_sigmoid\n",
            "loss:  CrossEntropyLoss()\n",
            "Optimizer:  SGD\n",
            "epoch:  0\n",
            "Accuracy:  0.9681\n",
            "model:  MLP_sigmoid\n",
            "loss:  CrossEntropyLoss()\n",
            "Optimizer:  SGD\n",
            "epoch:  1\n",
            "Accuracy:  0.969\n",
            "model:  MLP_sigmoid\n",
            "loss:  CrossEntropyLoss()\n",
            "Optimizer:  SGD\n",
            "epoch:  2\n",
            "Accuracy:  0.9695\n",
            "model:  MLP_sigmoid\n",
            "loss:  CrossEntropyLoss()\n",
            "Optimizer:  SGD\n",
            "epoch:  3\n",
            "Accuracy:  0.9698\n",
            "model:  MLP_sigmoid\n",
            "loss:  CrossEntropyLoss()\n",
            "Optimizer:  SGD\n",
            "epoch:  4\n",
            "Accuracy:  0.9698\n",
            "model:  MLP_dropout_input\n",
            "loss:  CrossEntropyLoss()\n",
            "Optimizer:  SGD\n",
            "epoch:  0\n",
            "Accuracy:  0.97\n",
            "model:  MLP_dropout_input\n",
            "loss:  CrossEntropyLoss()\n",
            "Optimizer:  SGD\n",
            "epoch:  1\n",
            "Accuracy:  0.9708\n",
            "model:  MLP_dropout_input\n",
            "loss:  CrossEntropyLoss()\n",
            "Optimizer:  SGD\n",
            "epoch:  2\n",
            "Accuracy:  0.9715\n",
            "model:  MLP_dropout_input\n",
            "loss:  CrossEntropyLoss()\n",
            "Optimizer:  SGD\n",
            "epoch:  3\n",
            "Accuracy:  0.9718\n",
            "model:  MLP_dropout_input\n",
            "loss:  CrossEntropyLoss()\n",
            "Optimizer:  SGD\n",
            "epoch:  4\n",
            "Accuracy:  0.9719\n",
            "model:  MLP_dropout_hidden\n",
            "loss:  CrossEntropyLoss()\n",
            "Optimizer:  SGD\n",
            "epoch:  0\n",
            "Accuracy:  0.9691\n",
            "model:  MLP_dropout_hidden\n",
            "loss:  CrossEntropyLoss()\n",
            "Optimizer:  SGD\n",
            "epoch:  1\n",
            "Accuracy:  0.9703\n",
            "model:  MLP_dropout_hidden\n",
            "loss:  CrossEntropyLoss()\n",
            "Optimizer:  SGD\n",
            "epoch:  2\n",
            "Accuracy:  0.9707\n",
            "model:  MLP_dropout_hidden\n",
            "loss:  CrossEntropyLoss()\n",
            "Optimizer:  SGD\n",
            "epoch:  3\n",
            "Accuracy:  0.9707\n",
            "model:  MLP_dropout_hidden\n",
            "loss:  CrossEntropyLoss()\n",
            "Optimizer:  SGD\n",
            "epoch:  4\n",
            "Accuracy:  0.9711\n"
          ]
        }
      ]
    },
    {
      "cell_type": "markdown",
      "source": [
        "# Hyperparameter tuning done on different parameters\n",
        "\n",
        "\n",
        "\n",
        "*   Optimizers function - two different optimizers Adam and SGD were used in the hyperparameter tuning, it can be seen that both the activation function perform equally well\n",
        "*   Activation function - ReLU and Sigmoid activation functions were used for testing and ReLU outperformed sigmoid in terms of accuracy\n",
        "\n",
        "\n",
        "*   Drop outs - Dropouts were introduced in input layers and hidden layers for testing. It can be seen that introducing drop outs increases the model accuracy and drop outs introduced at hidden layers outperform dropouts introduced in input layers.\n",
        "*   Loss function - The cross-Entropy loss function was used as the cost function.\n",
        "\n",
        "\n",
        "*   Epochs - the models were tested for 5 epochs.\n",
        "\n",
        "\n",
        "\n",
        "\n",
        "\n"
      ],
      "metadata": {
        "id": "cyfUD-DD0T6V"
      }
    }
  ]
}